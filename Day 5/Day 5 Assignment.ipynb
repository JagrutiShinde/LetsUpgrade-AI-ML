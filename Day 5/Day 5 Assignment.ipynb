{
 "cells": [
  {
   "cell_type": "markdown",
   "metadata": {},
   "source": [
    "__Question 1 : Write a Python program to find the first 20 non-even prime natural numbers.__"
   ]
  },
  {
   "cell_type": "code",
   "execution_count": 8,
   "metadata": {},
   "outputs": [
    {
     "name": "stdout",
     "output_type": "stream",
     "text": [
      "The first 20 non-even prime natural numbers are:\n",
      "3\n",
      "5\n",
      "7\n",
      "11\n",
      "13\n",
      "17\n",
      "19\n",
      "23\n",
      "29\n",
      "31\n",
      "37\n",
      "41\n",
      "43\n",
      "47\n",
      "53\n",
      "59\n",
      "61\n",
      "67\n",
      "71\n",
      "73\n"
     ]
    }
   ],
   "source": [
    "count=0\n",
    "i=1\n",
    "print(\"The first 20 non-even prime natural numbers are:\")\n",
    "while count!=20:\n",
    "    flag=0\n",
    "    i=i+2\n",
    "    for num in range(2,i):\n",
    "        if i%num==0:\n",
    "            flag=1\n",
    "            break\n",
    "    if flag==0:\n",
    "        print(i)\n",
    "        count+=1"
   ]
  },
  {
   "cell_type": "markdown",
   "metadata": {},
   "source": [
    "__Question 2 :Write a Python program to implement 15 functions of string.__"
   ]
  },
  {
   "cell_type": "code",
   "execution_count": 3,
   "metadata": {},
   "outputs": [
    {
     "name": "stdout",
     "output_type": "stream",
     "text": [
      "String Functions:\n",
      "1.Convert string in uppercase: HELLO! WELCOME TO PYTHON\n",
      "2.Convert string in lowercase: hello! welcome to python\n",
      "3.Count number of time specific charater occured: 4\n",
      "4.Swap the cases: hELLO! WELCOME TO pYTHON\n",
      "5.Check if all characters in the string are alphanumeric: False\n",
      "6.Check if all characters in the string are in the alphabet: False\n",
      "7.Check if all characters in the string are digits: False\n",
      "8.Check if all characters in the string are upper case: False\n",
      "9.Check if all characters in the string are lower case: False\n",
      "10.Check if string is empty: False\n",
      "11.Returns a tuple where the string is parted into three parts: ('Hello! ', 'welcome', ' to Python')\n",
      "12.Index returns position of the string: 7\n",
      "13.Check whether string ends with specific value : True\n",
      "14.Convert first character of each word to upper case: Hello! Welcome To Python\n",
      "15.Replace python with Machine Learning Hello! welcome to machine learning\n"
     ]
    }
   ],
   "source": [
    "str1 = \"Hello! welcome to Python\"\n",
    "print(\"String Functions:\")\n",
    "print(\"1.Convert string in uppercase:\",str1.upper())\n",
    "print(\"2.Convert string in lowercase:\",str1.lower())\n",
    "print(\"3.Count number of time specific charater occured:\",str1.count('o'))\n",
    "print(\"4.Swap the cases:\",str1.swapcase())\n",
    "print(\"5.Check if all characters in the string are alphanumeric:\", str1.isalnum())\n",
    "print(\"6.Check if all characters in the string are in the alphabet:\", str1.isalpha())\n",
    "print(\"7.Check if all characters in the string are digits:\", str1.isdigit())\n",
    "print(\"8.Check if all characters in the string are upper case:\", str1.isupper())\n",
    "print(\"9.Check if all characters in the string are lower case:\", str1.islower())\n",
    "print(\"10.Check if string is empty:\", str1.isspace())\n",
    "print(\"11.Returns a tuple where the string is parted into three parts:\", str1.partition(\"welcome\"))\n",
    "print(\"12.Index returns position of the string:\",str1.index(\"welcome\"))\n",
    "print(\"13.Check whether string ends with specific value :\", str1.endswith(\"n\"))\n",
    "print(\"14.Convert first character of each word to upper case:\",str1.title())\n",
    "print(\"15.Replace python with Machine Learning\",str1.replace(\"Python\",\"machine learning\"))"
   ]
  },
  {
   "cell_type": "markdown",
   "metadata": {},
   "source": [
    "__Question 3:\n",
    "Write a Python program to check if the given string is a Palindrome or Anagram or None of them.Display the message accordingly to the user.__"
   ]
  },
  {
   "cell_type": "code",
   "execution_count": 9,
   "metadata": {},
   "outputs": [
    {
     "name": "stdout",
     "output_type": "stream",
     "text": [
      "Enter the string:slient\n",
      "Enterted string slient is an anagram\n"
     ]
    }
   ],
   "source": [
    "str1= input(\"Enter the string:\")\n",
    "rev=str1[::-1]\n",
    "if str1==rev:\n",
    "    print(\"Enterted string\",str1,\"is a palindrome\")\n",
    "if sorted(str1)==sorted(str1):\n",
    "    print(\"Enterted string\",str1,\"is an anagram\")\n",
    "else:\n",
    "    print(str1,\"is not a palindrom or an anagram\")"
   ]
  },
  {
   "cell_type": "markdown",
   "metadata": {},
   "source": [
    "__Question 4:\n",
    "Write a Python's user defined function that removes all the additional characters from the string and converts it finally to lower case using built-in lower(). eg: If the string is \"Dr. Darshan Ingle @AI-ML Trainer\", then the output be \"drdarshaningleaimltrainer\".__"
   ]
  },
  {
   "cell_type": "code",
   "execution_count": 10,
   "metadata": {},
   "outputs": [
    {
     "name": "stdout",
     "output_type": "stream",
     "text": [
      "Enter a string: I am Learning @ Python3\n",
      "iamlearningpython\n"
     ]
    }
   ],
   "source": [
    "get_str=input(\"Enter a string: \")\n",
    "def check(string):\n",
    "    val=\"\"\n",
    "    for chars in string:\n",
    "        if chars.isalpha():\n",
    "            val+=chars\n",
    "    return val.lower()\n",
    "print(check(get_str))"
   ]
  },
  {
   "cell_type": "code",
   "execution_count": null,
   "metadata": {},
   "outputs": [],
   "source": []
  }
 ],
 "metadata": {
  "kernelspec": {
   "display_name": "Python 3",
   "language": "python",
   "name": "python3"
  },
  "language_info": {
   "codemirror_mode": {
    "name": "ipython",
    "version": 3
   },
   "file_extension": ".py",
   "mimetype": "text/x-python",
   "name": "python",
   "nbconvert_exporter": "python",
   "pygments_lexer": "ipython3",
   "version": "3.7.6"
  }
 },
 "nbformat": 4,
 "nbformat_minor": 4
}
