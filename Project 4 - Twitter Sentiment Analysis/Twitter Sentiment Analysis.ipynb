{
 "cells": [
  {
   "cell_type": "code",
   "execution_count": 1,
   "metadata": {},
   "outputs": [
    {
     "name": "stdout",
     "output_type": "stream",
     "text": [
      "Collecting tweepy\n",
      "  Downloading tweepy-3.9.0-py2.py3-none-any.whl (30 kB)\n",
      "Requirement already satisfied: requests[socks]>=2.11.1 in c:\\users\\jagru\\anaconda3\\lib\\site-packages (from tweepy) (2.24.0)\n",
      "Collecting requests-oauthlib>=0.7.0\n",
      "  Downloading requests_oauthlib-1.3.0-py2.py3-none-any.whl (23 kB)\n",
      "Requirement already satisfied: six>=1.10.0 in c:\\users\\jagru\\anaconda3\\lib\\site-packages (from tweepy) (1.15.0)\n",
      "Requirement already satisfied: idna<3,>=2.5 in c:\\users\\jagru\\anaconda3\\lib\\site-packages (from requests[socks]>=2.11.1->tweepy) (2.10)\n",
      "Requirement already satisfied: certifi>=2017.4.17 in c:\\users\\jagru\\anaconda3\\lib\\site-packages (from requests[socks]>=2.11.1->tweepy) (2020.6.20)\n",
      "Requirement already satisfied: urllib3!=1.25.0,!=1.25.1,<1.26,>=1.21.1 in c:\\users\\jagru\\anaconda3\\lib\\site-packages (from requests[socks]>=2.11.1->tweepy) (1.25.9)\n",
      "Requirement already satisfied: chardet<4,>=3.0.2 in c:\\users\\jagru\\anaconda3\\lib\\site-packages (from requests[socks]>=2.11.1->tweepy) (3.0.4)\n",
      "Requirement already satisfied: PySocks!=1.5.7,>=1.5.6; extra == \"socks\" in c:\\users\\jagru\\anaconda3\\lib\\site-packages (from requests[socks]>=2.11.1->tweepy) (1.7.1)\n",
      "Collecting oauthlib>=3.0.0\n",
      "  Downloading oauthlib-3.1.0-py2.py3-none-any.whl (147 kB)\n",
      "Installing collected packages: oauthlib, requests-oauthlib, tweepy\n",
      "Successfully installed oauthlib-3.1.0 requests-oauthlib-1.3.0 tweepy-3.9.0\n"
     ]
    }
   ],
   "source": [
    "!pip install tweepy"
   ]
  },
  {
   "cell_type": "code",
   "execution_count": 2,
   "metadata": {},
   "outputs": [
    {
     "name": "stdout",
     "output_type": "stream",
     "text": [
      "Requirement already satisfied: openpyxl in c:\\users\\jagru\\anaconda3\\lib\\site-packages (3.0.4)\n",
      "Requirement already satisfied: et-xmlfile in c:\\users\\jagru\\anaconda3\\lib\\site-packages (from openpyxl) (1.0.1)\n",
      "Requirement already satisfied: jdcal in c:\\users\\jagru\\anaconda3\\lib\\site-packages (from openpyxl) (1.4.1)\n"
     ]
    }
   ],
   "source": [
    "!pip install openpyxl"
   ]
  },
  {
   "cell_type": "code",
   "execution_count": 3,
   "metadata": {},
   "outputs": [],
   "source": [
    "import numpy as np\n",
    "import pandas as pd\n",
    "import tweepy\n",
    "import json\n",
    "from tweepy import OAuthHandler"
   ]
  },
  {
   "cell_type": "code",
   "execution_count": 4,
   "metadata": {},
   "outputs": [],
   "source": [
    "consumer_key= \"XC5LfO3Om0DRDOty9Y6dtNtZA\"\n",
    "consumer_secret= \"NAqkwz5ZN3wwnMWVfMpQ8GuGFlkoIaKSQL9sztm5fHTlD9vGOk\"\n",
    "access_token= \"3685203556-MFGihHXew3BTFvARuAgNnP4psUhUMoBnpj6hhKV\"\n",
    "access_token_secret= \"hZ4H9mlTGRPPVjOTIcv0CR8pIy6mFqvCPA6pfyJDsFHrM\""
   ]
  },
  {
   "cell_type": "code",
   "execution_count": 5,
   "metadata": {},
   "outputs": [],
   "source": [
    "auth = tweepy.OAuthHandler( consumer_key , consumer_secret )\n",
    "auth.set_access_token( access_token , access_token_secret )\n",
    "api = tweepy.API(auth)"
   ]
  },
  {
   "cell_type": "code",
   "execution_count": 13,
   "metadata": {},
   "outputs": [],
   "source": [
    "query = \"MI winning IPL\""
   ]
  },
  {
   "cell_type": "code",
   "execution_count": 14,
   "metadata": {},
   "outputs": [
    {
     "name": "stdout",
     "output_type": "stream",
     "text": [
      "Status(_api=<tweepy.api.API object at 0x00000230B6583250>, _json={'created_at': 'Thu Oct 29 20:10:11 +0000 2020', 'id': 1321907203553468416, 'id_str': '1321907203553468416', 'full_text': '@Bum10Niru @RajeshBadugula1 @mipaltan Forget qualification. They win one ipl trophy , their fans will make it sound like they won 10. But then again RCB having a chance to win an ipl only happens on a leap year. If not MI, Wouldn’t mind any other team winning but not RCB.', 'truncated': False, 'display_text_range': [38, 272], 'entities': {'hashtags': [], 'symbols': [], 'user_mentions': [{'screen_name': 'Bum10Niru', 'name': 'NiruBum10', 'id': 1311111151686578177, 'id_str': '1311111151686578177', 'indices': [0, 10]}, {'screen_name': 'RajeshBadugula1', 'name': 'Rajesh Badugula', 'id': 2392891689, 'id_str': '2392891689', 'indices': [11, 27]}, {'screen_name': 'mipaltan', 'name': 'Mumbai Indians', 'id': 106345557, 'id_str': '106345557', 'indices': [28, 37]}], 'urls': []}, 'metadata': {'iso_language_code': 'en', 'result_type': 'recent'}, 'source': '<a href=\"http://twitter.com/download/iphone\" rel=\"nofollow\">Twitter for iPhone</a>', 'in_reply_to_status_id': 1321871371937308678, 'in_reply_to_status_id_str': '1321871371937308678', 'in_reply_to_user_id': 1311111151686578177, 'in_reply_to_user_id_str': '1311111151686578177', 'in_reply_to_screen_name': 'Bum10Niru', 'user': {'id': 869142833046880256, 'id_str': '869142833046880256', 'name': 'Nikhil k', 'screen_name': 'Nikhilk_2001', 'location': 'The mysterious land of india', 'description': 'passionate for F1 ,cricket and football,Man Utd fan,love horses and speed, love to travel and meet new people, Ferrari fan,Charles Leclerc supporter.Polo player', 'url': 'https://t.co/TABIXKyI88', 'entities': {'url': {'urls': [{'url': 'https://t.co/TABIXKyI88', 'expanded_url': 'https://nikhilkumarf1.wordpress.com', 'display_url': 'nikhilkumarf1.wordpress.com', 'indices': [0, 23]}]}, 'description': {'urls': []}}, 'protected': False, 'followers_count': 37, 'friends_count': 1473, 'listed_count': 1, 'created_at': 'Mon May 29 10:46:14 +0000 2017', 'favourites_count': 662, 'utc_offset': None, 'time_zone': None, 'geo_enabled': True, 'verified': False, 'statuses_count': 575, 'lang': None, 'contributors_enabled': False, 'is_translator': False, 'is_translation_enabled': False, 'profile_background_color': 'F5F8FA', 'profile_background_image_url': None, 'profile_background_image_url_https': None, 'profile_background_tile': False, 'profile_image_url': 'http://pbs.twimg.com/profile_images/1289768115782299648/p56DCO06_normal.jpg', 'profile_image_url_https': 'https://pbs.twimg.com/profile_images/1289768115782299648/p56DCO06_normal.jpg', 'profile_link_color': '1DA1F2', 'profile_sidebar_border_color': 'C0DEED', 'profile_sidebar_fill_color': 'DDEEF6', 'profile_text_color': '333333', 'profile_use_background_image': True, 'has_extended_profile': False, 'default_profile': True, 'default_profile_image': False, 'following': False, 'follow_request_sent': False, 'notifications': False, 'translator_type': 'none'}, 'geo': None, 'coordinates': None, 'place': None, 'contributors': None, 'is_quote_status': False, 'retweet_count': 0, 'favorite_count': 2, 'favorited': False, 'retweeted': False, 'lang': 'en'}, created_at=datetime.datetime(2020, 10, 29, 20, 10, 11), id=1321907203553468416, id_str='1321907203553468416', full_text='@Bum10Niru @RajeshBadugula1 @mipaltan Forget qualification. They win one ipl trophy , their fans will make it sound like they won 10. But then again RCB having a chance to win an ipl only happens on a leap year. If not MI, Wouldn’t mind any other team winning but not RCB.', truncated=False, display_text_range=[38, 272], entities={'hashtags': [], 'symbols': [], 'user_mentions': [{'screen_name': 'Bum10Niru', 'name': 'NiruBum10', 'id': 1311111151686578177, 'id_str': '1311111151686578177', 'indices': [0, 10]}, {'screen_name': 'RajeshBadugula1', 'name': 'Rajesh Badugula', 'id': 2392891689, 'id_str': '2392891689', 'indices': [11, 27]}, {'screen_name': 'mipaltan', 'name': 'Mumbai Indians', 'id': 106345557, 'id_str': '106345557', 'indices': [28, 37]}], 'urls': []}, metadata={'iso_language_code': 'en', 'result_type': 'recent'}, source='Twitter for iPhone', source_url='http://twitter.com/download/iphone', in_reply_to_status_id=1321871371937308678, in_reply_to_status_id_str='1321871371937308678', in_reply_to_user_id=1311111151686578177, in_reply_to_user_id_str='1311111151686578177', in_reply_to_screen_name='Bum10Niru', author=User(_api=<tweepy.api.API object at 0x00000230B6583250>, _json={'id': 869142833046880256, 'id_str': '869142833046880256', 'name': 'Nikhil k', 'screen_name': 'Nikhilk_2001', 'location': 'The mysterious land of india', 'description': 'passionate for F1 ,cricket and football,Man Utd fan,love horses and speed, love to travel and meet new people, Ferrari fan,Charles Leclerc supporter.Polo player', 'url': 'https://t.co/TABIXKyI88', 'entities': {'url': {'urls': [{'url': 'https://t.co/TABIXKyI88', 'expanded_url': 'https://nikhilkumarf1.wordpress.com', 'display_url': 'nikhilkumarf1.wordpress.com', 'indices': [0, 23]}]}, 'description': {'urls': []}}, 'protected': False, 'followers_count': 37, 'friends_count': 1473, 'listed_count': 1, 'created_at': 'Mon May 29 10:46:14 +0000 2017', 'favourites_count': 662, 'utc_offset': None, 'time_zone': None, 'geo_enabled': True, 'verified': False, 'statuses_count': 575, 'lang': None, 'contributors_enabled': False, 'is_translator': False, 'is_translation_enabled': False, 'profile_background_color': 'F5F8FA', 'profile_background_image_url': None, 'profile_background_image_url_https': None, 'profile_background_tile': False, 'profile_image_url': 'http://pbs.twimg.com/profile_images/1289768115782299648/p56DCO06_normal.jpg', 'profile_image_url_https': 'https://pbs.twimg.com/profile_images/1289768115782299648/p56DCO06_normal.jpg', 'profile_link_color': '1DA1F2', 'profile_sidebar_border_color': 'C0DEED', 'profile_sidebar_fill_color': 'DDEEF6', 'profile_text_color': '333333', 'profile_use_background_image': True, 'has_extended_profile': False, 'default_profile': True, 'default_profile_image': False, 'following': False, 'follow_request_sent': False, 'notifications': False, 'translator_type': 'none'}, id=869142833046880256, id_str='869142833046880256', name='Nikhil k', screen_name='Nikhilk_2001', location='The mysterious land of india', description='passionate for F1 ,cricket and football,Man Utd fan,love horses and speed, love to travel and meet new people, Ferrari fan,Charles Leclerc supporter.Polo player', url='https://t.co/TABIXKyI88', entities={'url': {'urls': [{'url': 'https://t.co/TABIXKyI88', 'expanded_url': 'https://nikhilkumarf1.wordpress.com', 'display_url': 'nikhilkumarf1.wordpress.com', 'indices': [0, 23]}]}, 'description': {'urls': []}}, protected=False, followers_count=37, friends_count=1473, listed_count=1, created_at=datetime.datetime(2017, 5, 29, 10, 46, 14), favourites_count=662, utc_offset=None, time_zone=None, geo_enabled=True, verified=False, statuses_count=575, lang=None, contributors_enabled=False, is_translator=False, is_translation_enabled=False, profile_background_color='F5F8FA', profile_background_image_url=None, profile_background_image_url_https=None, profile_background_tile=False, profile_image_url='http://pbs.twimg.com/profile_images/1289768115782299648/p56DCO06_normal.jpg', profile_image_url_https='https://pbs.twimg.com/profile_images/1289768115782299648/p56DCO06_normal.jpg', profile_link_color='1DA1F2', profile_sidebar_border_color='C0DEED', profile_sidebar_fill_color='DDEEF6', profile_text_color='333333', profile_use_background_image=True, has_extended_profile=False, default_profile=True, default_profile_image=False, following=False, follow_request_sent=False, notifications=False, translator_type='none'), user=User(_api=<tweepy.api.API object at 0x00000230B6583250>, _json={'id': 869142833046880256, 'id_str': '869142833046880256', 'name': 'Nikhil k', 'screen_name': 'Nikhilk_2001', 'location': 'The mysterious land of india', 'description': 'passionate for F1 ,cricket and football,Man Utd fan,love horses and speed, love to travel and meet new people, Ferrari fan,Charles Leclerc supporter.Polo player', 'url': 'https://t.co/TABIXKyI88', 'entities': {'url': {'urls': [{'url': 'https://t.co/TABIXKyI88', 'expanded_url': 'https://nikhilkumarf1.wordpress.com', 'display_url': 'nikhilkumarf1.wordpress.com', 'indices': [0, 23]}]}, 'description': {'urls': []}}, 'protected': False, 'followers_count': 37, 'friends_count': 1473, 'listed_count': 1, 'created_at': 'Mon May 29 10:46:14 +0000 2017', 'favourites_count': 662, 'utc_offset': None, 'time_zone': None, 'geo_enabled': True, 'verified': False, 'statuses_count': 575, 'lang': None, 'contributors_enabled': False, 'is_translator': False, 'is_translation_enabled': False, 'profile_background_color': 'F5F8FA', 'profile_background_image_url': None, 'profile_background_image_url_https': None, 'profile_background_tile': False, 'profile_image_url': 'http://pbs.twimg.com/profile_images/1289768115782299648/p56DCO06_normal.jpg', 'profile_image_url_https': 'https://pbs.twimg.com/profile_images/1289768115782299648/p56DCO06_normal.jpg', 'profile_link_color': '1DA1F2', 'profile_sidebar_border_color': 'C0DEED', 'profile_sidebar_fill_color': 'DDEEF6', 'profile_text_color': '333333', 'profile_use_background_image': True, 'has_extended_profile': False, 'default_profile': True, 'default_profile_image': False, 'following': False, 'follow_request_sent': False, 'notifications': False, 'translator_type': 'none'}, id=869142833046880256, id_str='869142833046880256', name='Nikhil k', screen_name='Nikhilk_2001', location='The mysterious land of india', description='passionate for F1 ,cricket and football,Man Utd fan,love horses and speed, love to travel and meet new people, Ferrari fan,Charles Leclerc supporter.Polo player', url='https://t.co/TABIXKyI88', entities={'url': {'urls': [{'url': 'https://t.co/TABIXKyI88', 'expanded_url': 'https://nikhilkumarf1.wordpress.com', 'display_url': 'nikhilkumarf1.wordpress.com', 'indices': [0, 23]}]}, 'description': {'urls': []}}, protected=False, followers_count=37, friends_count=1473, listed_count=1, created_at=datetime.datetime(2017, 5, 29, 10, 46, 14), favourites_count=662, utc_offset=None, time_zone=None, geo_enabled=True, verified=False, statuses_count=575, lang=None, contributors_enabled=False, is_translator=False, is_translation_enabled=False, profile_background_color='F5F8FA', profile_background_image_url=None, profile_background_image_url_https=None, profile_background_tile=False, profile_image_url='http://pbs.twimg.com/profile_images/1289768115782299648/p56DCO06_normal.jpg', profile_image_url_https='https://pbs.twimg.com/profile_images/1289768115782299648/p56DCO06_normal.jpg', profile_link_color='1DA1F2', profile_sidebar_border_color='C0DEED', profile_sidebar_fill_color='DDEEF6', profile_text_color='333333', profile_use_background_image=True, has_extended_profile=False, default_profile=True, default_profile_image=False, following=False, follow_request_sent=False, notifications=False, translator_type='none'), geo=None, coordinates=None, place=None, contributors=None, is_quote_status=False, retweet_count=0, favorite_count=2, favorited=False, retweeted=False, lang='en') \n",
      "\n",
      "..........................\n",
      "\n",
      "Status(_api=<tweepy.api.API object at 0x00000230B6583250>, _json={'created_at': 'Thu Oct 29 18:49:27 +0000 2020', 'id': 1321886886416146432, 'id_str': '1321886886416146432', 'full_text': '@Cricbuzz07 @IPL @mipaltan I dont see MI winning th tournament..!! KXIP will be a Good Bet..!!', 'truncated': False, 'display_text_range': [27, 94], 'entities': {'hashtags': [], 'symbols': [], 'user_mentions': [{'screen_name': 'Cricbuzz07', 'name': 'Cricbuzz', 'id': 1318938307510685696, 'id_str': '1318938307510685696', 'indices': [0, 11]}, {'screen_name': 'IPL', 'name': 'IndianPremierLeague', 'id': 15639696, 'id_str': '15639696', 'indices': [12, 16]}, {'screen_name': 'mipaltan', 'name': 'Mumbai Indians', 'id': 106345557, 'id_str': '106345557', 'indices': [17, 26]}], 'urls': []}, 'metadata': {'iso_language_code': 'en', 'result_type': 'recent'}, 'source': '<a href=\"http://twitter.com/download/android\" rel=\"nofollow\">Twitter for Android</a>', 'in_reply_to_status_id': 1321885224083496963, 'in_reply_to_status_id_str': '1321885224083496963', 'in_reply_to_user_id': 1318938307510685696, 'in_reply_to_user_id_str': '1318938307510685696', 'in_reply_to_screen_name': 'Cricbuzz07', 'user': {'id': 1363579070, 'id_str': '1363579070', 'name': 'HaRun * cHAmueL *', 'screen_name': 'Arun_Sam5', 'location': '', 'description': 'Mastering the Master of Lazyness..!!', 'url': None, 'entities': {'description': {'urls': []}}, 'protected': False, 'followers_count': 9, 'friends_count': 78, 'listed_count': 0, 'created_at': 'Fri Apr 19 04:39:30 +0000 2013', 'favourites_count': 1927, 'utc_offset': None, 'time_zone': None, 'geo_enabled': True, 'verified': False, 'statuses_count': 408, 'lang': None, 'contributors_enabled': False, 'is_translator': False, 'is_translation_enabled': False, 'profile_background_color': 'C0DEED', 'profile_background_image_url': 'http://abs.twimg.com/images/themes/theme1/bg.png', 'profile_background_image_url_https': 'https://abs.twimg.com/images/themes/theme1/bg.png', 'profile_background_tile': False, 'profile_image_url': 'http://pbs.twimg.com/profile_images/3541941978/ea1219bb47b10b129aa3ae9a2d16c81f_normal.jpeg', 'profile_image_url_https': 'https://pbs.twimg.com/profile_images/3541941978/ea1219bb47b10b129aa3ae9a2d16c81f_normal.jpeg', 'profile_link_color': '1DA1F2', 'profile_sidebar_border_color': 'C0DEED', 'profile_sidebar_fill_color': 'DDEEF6', 'profile_text_color': '333333', 'profile_use_background_image': True, 'has_extended_profile': True, 'default_profile': True, 'default_profile_image': False, 'following': False, 'follow_request_sent': False, 'notifications': False, 'translator_type': 'none'}, 'geo': None, 'coordinates': None, 'place': None, 'contributors': None, 'is_quote_status': False, 'retweet_count': 0, 'favorite_count': 1, 'favorited': False, 'retweeted': False, 'lang': 'en'}, created_at=datetime.datetime(2020, 10, 29, 18, 49, 27), id=1321886886416146432, id_str='1321886886416146432', full_text='@Cricbuzz07 @IPL @mipaltan I dont see MI winning th tournament..!! KXIP will be a Good Bet..!!', truncated=False, display_text_range=[27, 94], entities={'hashtags': [], 'symbols': [], 'user_mentions': [{'screen_name': 'Cricbuzz07', 'name': 'Cricbuzz', 'id': 1318938307510685696, 'id_str': '1318938307510685696', 'indices': [0, 11]}, {'screen_name': 'IPL', 'name': 'IndianPremierLeague', 'id': 15639696, 'id_str': '15639696', 'indices': [12, 16]}, {'screen_name': 'mipaltan', 'name': 'Mumbai Indians', 'id': 106345557, 'id_str': '106345557', 'indices': [17, 26]}], 'urls': []}, metadata={'iso_language_code': 'en', 'result_type': 'recent'}, source='Twitter for Android', source_url='http://twitter.com/download/android', in_reply_to_status_id=1321885224083496963, in_reply_to_status_id_str='1321885224083496963', in_reply_to_user_id=1318938307510685696, in_reply_to_user_id_str='1318938307510685696', in_reply_to_screen_name='Cricbuzz07', author=User(_api=<tweepy.api.API object at 0x00000230B6583250>, _json={'id': 1363579070, 'id_str': '1363579070', 'name': 'HaRun * cHAmueL *', 'screen_name': 'Arun_Sam5', 'location': '', 'description': 'Mastering the Master of Lazyness..!!', 'url': None, 'entities': {'description': {'urls': []}}, 'protected': False, 'followers_count': 9, 'friends_count': 78, 'listed_count': 0, 'created_at': 'Fri Apr 19 04:39:30 +0000 2013', 'favourites_count': 1927, 'utc_offset': None, 'time_zone': None, 'geo_enabled': True, 'verified': False, 'statuses_count': 408, 'lang': None, 'contributors_enabled': False, 'is_translator': False, 'is_translation_enabled': False, 'profile_background_color': 'C0DEED', 'profile_background_image_url': 'http://abs.twimg.com/images/themes/theme1/bg.png', 'profile_background_image_url_https': 'https://abs.twimg.com/images/themes/theme1/bg.png', 'profile_background_tile': False, 'profile_image_url': 'http://pbs.twimg.com/profile_images/3541941978/ea1219bb47b10b129aa3ae9a2d16c81f_normal.jpeg', 'profile_image_url_https': 'https://pbs.twimg.com/profile_images/3541941978/ea1219bb47b10b129aa3ae9a2d16c81f_normal.jpeg', 'profile_link_color': '1DA1F2', 'profile_sidebar_border_color': 'C0DEED', 'profile_sidebar_fill_color': 'DDEEF6', 'profile_text_color': '333333', 'profile_use_background_image': True, 'has_extended_profile': True, 'default_profile': True, 'default_profile_image': False, 'following': False, 'follow_request_sent': False, 'notifications': False, 'translator_type': 'none'}, id=1363579070, id_str='1363579070', name='HaRun * cHAmueL *', screen_name='Arun_Sam5', location='', description='Mastering the Master of Lazyness..!!', url=None, entities={'description': {'urls': []}}, protected=False, followers_count=9, friends_count=78, listed_count=0, created_at=datetime.datetime(2013, 4, 19, 4, 39, 30), favourites_count=1927, utc_offset=None, time_zone=None, geo_enabled=True, verified=False, statuses_count=408, lang=None, contributors_enabled=False, is_translator=False, is_translation_enabled=False, profile_background_color='C0DEED', profile_background_image_url='http://abs.twimg.com/images/themes/theme1/bg.png', profile_background_image_url_https='https://abs.twimg.com/images/themes/theme1/bg.png', profile_background_tile=False, profile_image_url='http://pbs.twimg.com/profile_images/3541941978/ea1219bb47b10b129aa3ae9a2d16c81f_normal.jpeg', profile_image_url_https='https://pbs.twimg.com/profile_images/3541941978/ea1219bb47b10b129aa3ae9a2d16c81f_normal.jpeg', profile_link_color='1DA1F2', profile_sidebar_border_color='C0DEED', profile_sidebar_fill_color='DDEEF6', profile_text_color='333333', profile_use_background_image=True, has_extended_profile=True, default_profile=True, default_profile_image=False, following=False, follow_request_sent=False, notifications=False, translator_type='none'), user=User(_api=<tweepy.api.API object at 0x00000230B6583250>, _json={'id': 1363579070, 'id_str': '1363579070', 'name': 'HaRun * cHAmueL *', 'screen_name': 'Arun_Sam5', 'location': '', 'description': 'Mastering the Master of Lazyness..!!', 'url': None, 'entities': {'description': {'urls': []}}, 'protected': False, 'followers_count': 9, 'friends_count': 78, 'listed_count': 0, 'created_at': 'Fri Apr 19 04:39:30 +0000 2013', 'favourites_count': 1927, 'utc_offset': None, 'time_zone': None, 'geo_enabled': True, 'verified': False, 'statuses_count': 408, 'lang': None, 'contributors_enabled': False, 'is_translator': False, 'is_translation_enabled': False, 'profile_background_color': 'C0DEED', 'profile_background_image_url': 'http://abs.twimg.com/images/themes/theme1/bg.png', 'profile_background_image_url_https': 'https://abs.twimg.com/images/themes/theme1/bg.png', 'profile_background_tile': False, 'profile_image_url': 'http://pbs.twimg.com/profile_images/3541941978/ea1219bb47b10b129aa3ae9a2d16c81f_normal.jpeg', 'profile_image_url_https': 'https://pbs.twimg.com/profile_images/3541941978/ea1219bb47b10b129aa3ae9a2d16c81f_normal.jpeg', 'profile_link_color': '1DA1F2', 'profile_sidebar_border_color': 'C0DEED', 'profile_sidebar_fill_color': 'DDEEF6', 'profile_text_color': '333333', 'profile_use_background_image': True, 'has_extended_profile': True, 'default_profile': True, 'default_profile_image': False, 'following': False, 'follow_request_sent': False, 'notifications': False, 'translator_type': 'none'}, id=1363579070, id_str='1363579070', name='HaRun * cHAmueL *', screen_name='Arun_Sam5', location='', description='Mastering the Master of Lazyness..!!', url=None, entities={'description': {'urls': []}}, protected=False, followers_count=9, friends_count=78, listed_count=0, created_at=datetime.datetime(2013, 4, 19, 4, 39, 30), favourites_count=1927, utc_offset=None, time_zone=None, geo_enabled=True, verified=False, statuses_count=408, lang=None, contributors_enabled=False, is_translator=False, is_translation_enabled=False, profile_background_color='C0DEED', profile_background_image_url='http://abs.twimg.com/images/themes/theme1/bg.png', profile_background_image_url_https='https://abs.twimg.com/images/themes/theme1/bg.png', profile_background_tile=False, profile_image_url='http://pbs.twimg.com/profile_images/3541941978/ea1219bb47b10b129aa3ae9a2d16c81f_normal.jpeg', profile_image_url_https='https://pbs.twimg.com/profile_images/3541941978/ea1219bb47b10b129aa3ae9a2d16c81f_normal.jpeg', profile_link_color='1DA1F2', profile_sidebar_border_color='C0DEED', profile_sidebar_fill_color='DDEEF6', profile_text_color='333333', profile_use_background_image=True, has_extended_profile=True, default_profile=True, default_profile_image=False, following=False, follow_request_sent=False, notifications=False, translator_type='none'), geo=None, coordinates=None, place=None, contributors=None, is_quote_status=False, retweet_count=0, favorite_count=1, favorited=False, retweeted=False, lang='en') \n",
      "\n",
      "..........................\n",
      "\n",
      "Status(_api=<tweepy.api.API object at 0x00000230B6583250>, _json={'created_at': 'Thu Oct 29 17:59:20 +0000 2020', 'id': 1321874272667643904, 'id_str': '1321874272667643904', 'full_text': \"Then why are these so called virat fans so much against Suryakumar? Just coz he's from @mipaltan? Just coz MI people troll them for not winning a single IPL (facts tho 🤷🏻\\u200d♂️)\\n\\nWhy aren't statistics valid when the number of IPL trophies won by your star are in question?\", 'truncated': False, 'display_text_range': [0, 269], 'entities': {'hashtags': [], 'symbols': [], 'user_mentions': [{'screen_name': 'mipaltan', 'name': 'Mumbai Indians', 'id': 106345557, 'id_str': '106345557', 'indices': [87, 96]}], 'urls': []}, 'metadata': {'iso_language_code': 'en', 'result_type': 'recent'}, 'source': '<a href=\"http://twitter.com/download/android\" rel=\"nofollow\">Twitter for Android</a>', 'in_reply_to_status_id': 1321873952172466182, 'in_reply_to_status_id_str': '1321873952172466182', 'in_reply_to_user_id': 1346463528, 'in_reply_to_user_id_str': '1346463528', 'in_reply_to_screen_name': 'Iron_Man_3021', 'user': {'id': 1346463528, 'id_str': '1346463528', 'name': 'Sushrut Thakur', 'screen_name': 'Iron_Man_3021', 'location': 'Goa', 'description': 'Engineer in development. Tech fanatic. Iron Man is  ❤️  but Optimus Prime is God  🙏  Knows Cricket enough to have solid opinions.', 'url': None, 'entities': {'description': {'urls': []}}, 'protected': False, 'followers_count': 38, 'friends_count': 308, 'listed_count': 0, 'created_at': 'Fri Apr 12 10:12:29 +0000 2013', 'favourites_count': 903, 'utc_offset': None, 'time_zone': None, 'geo_enabled': False, 'verified': False, 'statuses_count': 168, 'lang': None, 'contributors_enabled': False, 'is_translator': False, 'is_translation_enabled': False, 'profile_background_color': '000000', 'profile_background_image_url': 'http://abs.twimg.com/images/themes/theme1/bg.png', 'profile_background_image_url_https': 'https://abs.twimg.com/images/themes/theme1/bg.png', 'profile_background_tile': False, 'profile_image_url': 'http://pbs.twimg.com/profile_images/1201194913569759232/890dJgfV_normal.jpg', 'profile_image_url_https': 'https://pbs.twimg.com/profile_images/1201194913569759232/890dJgfV_normal.jpg', 'profile_banner_url': 'https://pbs.twimg.com/profile_banners/1346463528/1600420232', 'profile_link_color': 'E81C4F', 'profile_sidebar_border_color': '000000', 'profile_sidebar_fill_color': '000000', 'profile_text_color': '000000', 'profile_use_background_image': False, 'has_extended_profile': True, 'default_profile': False, 'default_profile_image': False, 'following': False, 'follow_request_sent': False, 'notifications': False, 'translator_type': 'none'}, 'geo': None, 'coordinates': None, 'place': None, 'contributors': None, 'is_quote_status': False, 'retweet_count': 0, 'favorite_count': 0, 'favorited': False, 'retweeted': False, 'lang': 'en'}, created_at=datetime.datetime(2020, 10, 29, 17, 59, 20), id=1321874272667643904, id_str='1321874272667643904', full_text=\"Then why are these so called virat fans so much against Suryakumar? Just coz he's from @mipaltan? Just coz MI people troll them for not winning a single IPL (facts tho 🤷🏻\\u200d♂️)\\n\\nWhy aren't statistics valid when the number of IPL trophies won by your star are in question?\", truncated=False, display_text_range=[0, 269], entities={'hashtags': [], 'symbols': [], 'user_mentions': [{'screen_name': 'mipaltan', 'name': 'Mumbai Indians', 'id': 106345557, 'id_str': '106345557', 'indices': [87, 96]}], 'urls': []}, metadata={'iso_language_code': 'en', 'result_type': 'recent'}, source='Twitter for Android', source_url='http://twitter.com/download/android', in_reply_to_status_id=1321873952172466182, in_reply_to_status_id_str='1321873952172466182', in_reply_to_user_id=1346463528, in_reply_to_user_id_str='1346463528', in_reply_to_screen_name='Iron_Man_3021', author=User(_api=<tweepy.api.API object at 0x00000230B6583250>, _json={'id': 1346463528, 'id_str': '1346463528', 'name': 'Sushrut Thakur', 'screen_name': 'Iron_Man_3021', 'location': 'Goa', 'description': 'Engineer in development. Tech fanatic. Iron Man is  ❤️  but Optimus Prime is God  🙏  Knows Cricket enough to have solid opinions.', 'url': None, 'entities': {'description': {'urls': []}}, 'protected': False, 'followers_count': 38, 'friends_count': 308, 'listed_count': 0, 'created_at': 'Fri Apr 12 10:12:29 +0000 2013', 'favourites_count': 903, 'utc_offset': None, 'time_zone': None, 'geo_enabled': False, 'verified': False, 'statuses_count': 168, 'lang': None, 'contributors_enabled': False, 'is_translator': False, 'is_translation_enabled': False, 'profile_background_color': '000000', 'profile_background_image_url': 'http://abs.twimg.com/images/themes/theme1/bg.png', 'profile_background_image_url_https': 'https://abs.twimg.com/images/themes/theme1/bg.png', 'profile_background_tile': False, 'profile_image_url': 'http://pbs.twimg.com/profile_images/1201194913569759232/890dJgfV_normal.jpg', 'profile_image_url_https': 'https://pbs.twimg.com/profile_images/1201194913569759232/890dJgfV_normal.jpg', 'profile_banner_url': 'https://pbs.twimg.com/profile_banners/1346463528/1600420232', 'profile_link_color': 'E81C4F', 'profile_sidebar_border_color': '000000', 'profile_sidebar_fill_color': '000000', 'profile_text_color': '000000', 'profile_use_background_image': False, 'has_extended_profile': True, 'default_profile': False, 'default_profile_image': False, 'following': False, 'follow_request_sent': False, 'notifications': False, 'translator_type': 'none'}, id=1346463528, id_str='1346463528', name='Sushrut Thakur', screen_name='Iron_Man_3021', location='Goa', description='Engineer in development. Tech fanatic. Iron Man is  ❤️  but Optimus Prime is God  🙏  Knows Cricket enough to have solid opinions.', url=None, entities={'description': {'urls': []}}, protected=False, followers_count=38, friends_count=308, listed_count=0, created_at=datetime.datetime(2013, 4, 12, 10, 12, 29), favourites_count=903, utc_offset=None, time_zone=None, geo_enabled=False, verified=False, statuses_count=168, lang=None, contributors_enabled=False, is_translator=False, is_translation_enabled=False, profile_background_color='000000', profile_background_image_url='http://abs.twimg.com/images/themes/theme1/bg.png', profile_background_image_url_https='https://abs.twimg.com/images/themes/theme1/bg.png', profile_background_tile=False, profile_image_url='http://pbs.twimg.com/profile_images/1201194913569759232/890dJgfV_normal.jpg', profile_image_url_https='https://pbs.twimg.com/profile_images/1201194913569759232/890dJgfV_normal.jpg', profile_banner_url='https://pbs.twimg.com/profile_banners/1346463528/1600420232', profile_link_color='E81C4F', profile_sidebar_border_color='000000', profile_sidebar_fill_color='000000', profile_text_color='000000', profile_use_background_image=False, has_extended_profile=True, default_profile=False, default_profile_image=False, following=False, follow_request_sent=False, notifications=False, translator_type='none'), user=User(_api=<tweepy.api.API object at 0x00000230B6583250>, _json={'id': 1346463528, 'id_str': '1346463528', 'name': 'Sushrut Thakur', 'screen_name': 'Iron_Man_3021', 'location': 'Goa', 'description': 'Engineer in development. Tech fanatic. Iron Man is  ❤️  but Optimus Prime is God  🙏  Knows Cricket enough to have solid opinions.', 'url': None, 'entities': {'description': {'urls': []}}, 'protected': False, 'followers_count': 38, 'friends_count': 308, 'listed_count': 0, 'created_at': 'Fri Apr 12 10:12:29 +0000 2013', 'favourites_count': 903, 'utc_offset': None, 'time_zone': None, 'geo_enabled': False, 'verified': False, 'statuses_count': 168, 'lang': None, 'contributors_enabled': False, 'is_translator': False, 'is_translation_enabled': False, 'profile_background_color': '000000', 'profile_background_image_url': 'http://abs.twimg.com/images/themes/theme1/bg.png', 'profile_background_image_url_https': 'https://abs.twimg.com/images/themes/theme1/bg.png', 'profile_background_tile': False, 'profile_image_url': 'http://pbs.twimg.com/profile_images/1201194913569759232/890dJgfV_normal.jpg', 'profile_image_url_https': 'https://pbs.twimg.com/profile_images/1201194913569759232/890dJgfV_normal.jpg', 'profile_banner_url': 'https://pbs.twimg.com/profile_banners/1346463528/1600420232', 'profile_link_color': 'E81C4F', 'profile_sidebar_border_color': '000000', 'profile_sidebar_fill_color': '000000', 'profile_text_color': '000000', 'profile_use_background_image': False, 'has_extended_profile': True, 'default_profile': False, 'default_profile_image': False, 'following': False, 'follow_request_sent': False, 'notifications': False, 'translator_type': 'none'}, id=1346463528, id_str='1346463528', name='Sushrut Thakur', screen_name='Iron_Man_3021', location='Goa', description='Engineer in development. Tech fanatic. Iron Man is  ❤️  but Optimus Prime is God  🙏  Knows Cricket enough to have solid opinions.', url=None, entities={'description': {'urls': []}}, protected=False, followers_count=38, friends_count=308, listed_count=0, created_at=datetime.datetime(2013, 4, 12, 10, 12, 29), favourites_count=903, utc_offset=None, time_zone=None, geo_enabled=False, verified=False, statuses_count=168, lang=None, contributors_enabled=False, is_translator=False, is_translation_enabled=False, profile_background_color='000000', profile_background_image_url='http://abs.twimg.com/images/themes/theme1/bg.png', profile_background_image_url_https='https://abs.twimg.com/images/themes/theme1/bg.png', profile_background_tile=False, profile_image_url='http://pbs.twimg.com/profile_images/1201194913569759232/890dJgfV_normal.jpg', profile_image_url_https='https://pbs.twimg.com/profile_images/1201194913569759232/890dJgfV_normal.jpg', profile_banner_url='https://pbs.twimg.com/profile_banners/1346463528/1600420232', profile_link_color='E81C4F', profile_sidebar_border_color='000000', profile_sidebar_fill_color='000000', profile_text_color='000000', profile_use_background_image=False, has_extended_profile=True, default_profile=False, default_profile_image=False, following=False, follow_request_sent=False, notifications=False, translator_type='none'), geo=None, coordinates=None, place=None, contributors=None, is_quote_status=False, retweet_count=0, favorite_count=0, favorited=False, retweeted=False, lang='en') \n",
      "\n",
      "..........................\n",
      "\n",
      "Status(_api=<tweepy.api.API object at 0x00000230B6583250>, _json={'created_at': 'Thu Oct 29 17:56:28 +0000 2020', 'id': 1321873552308498432, 'id_str': '1321873552308498432', 'full_text': '@IPL @mipaltan @mipaltan has a great track record of winning the @IPL title whenever they have qualified for the playoffs in the IPL history. #IPL2020 #MI', 'truncated': False, 'display_text_range': [15, 154], 'entities': {'hashtags': [{'text': 'IPL2020', 'indices': [142, 150]}, {'text': 'MI', 'indices': [151, 154]}], 'symbols': [], 'user_mentions': [{'screen_name': 'IPL', 'name': 'IndianPremierLeague', 'id': 15639696, 'id_str': '15639696', 'indices': [0, 4]}, {'screen_name': 'mipaltan', 'name': 'Mumbai Indians', 'id': 106345557, 'id_str': '106345557', 'indices': [5, 14]}, {'screen_name': 'mipaltan', 'name': 'Mumbai Indians', 'id': 106345557, 'id_str': '106345557', 'indices': [15, 24]}, {'screen_name': 'IPL', 'name': 'IndianPremierLeague', 'id': 15639696, 'id_str': '15639696', 'indices': [65, 69]}], 'urls': []}, 'metadata': {'iso_language_code': 'en', 'result_type': 'recent'}, 'source': '<a href=\"http://twitter.com/download/android\" rel=\"nofollow\">Twitter for Android</a>', 'in_reply_to_status_id': 1321872806238248961, 'in_reply_to_status_id_str': '1321872806238248961', 'in_reply_to_user_id': 15639696, 'in_reply_to_user_id_str': '15639696', 'in_reply_to_screen_name': 'IPL', 'user': {'id': 3279501402, 'id_str': '3279501402', 'name': 'Aditya Saha', 'screen_name': 'adityakumar480', 'location': 'Bangalore , India', 'description': 'Just figured out how to change my bio.', 'url': None, 'entities': {'description': {'urls': []}}, 'protected': False, 'followers_count': 468, 'friends_count': 560, 'listed_count': 4, 'created_at': 'Tue Jul 14 12:30:43 +0000 2015', 'favourites_count': 100656, 'utc_offset': None, 'time_zone': None, 'geo_enabled': True, 'verified': False, 'statuses_count': 36601, 'lang': None, 'contributors_enabled': False, 'is_translator': False, 'is_translation_enabled': False, 'profile_background_color': 'C0DEED', 'profile_background_image_url': 'http://abs.twimg.com/images/themes/theme1/bg.png', 'profile_background_image_url_https': 'https://abs.twimg.com/images/themes/theme1/bg.png', 'profile_background_tile': False, 'profile_image_url': 'http://pbs.twimg.com/profile_images/1217887996277489664/fGlaGs14_normal.jpg', 'profile_image_url_https': 'https://pbs.twimg.com/profile_images/1217887996277489664/fGlaGs14_normal.jpg', 'profile_banner_url': 'https://pbs.twimg.com/profile_banners/3279501402/1575869597', 'profile_link_color': '1DA1F2', 'profile_sidebar_border_color': 'C0DEED', 'profile_sidebar_fill_color': 'DDEEF6', 'profile_text_color': '333333', 'profile_use_background_image': True, 'has_extended_profile': True, 'default_profile': True, 'default_profile_image': False, 'following': False, 'follow_request_sent': False, 'notifications': False, 'translator_type': 'none'}, 'geo': None, 'coordinates': None, 'place': None, 'contributors': None, 'is_quote_status': False, 'retweet_count': 0, 'favorite_count': 10, 'favorited': False, 'retweeted': False, 'lang': 'en'}, created_at=datetime.datetime(2020, 10, 29, 17, 56, 28), id=1321873552308498432, id_str='1321873552308498432', full_text='@IPL @mipaltan @mipaltan has a great track record of winning the @IPL title whenever they have qualified for the playoffs in the IPL history. #IPL2020 #MI', truncated=False, display_text_range=[15, 154], entities={'hashtags': [{'text': 'IPL2020', 'indices': [142, 150]}, {'text': 'MI', 'indices': [151, 154]}], 'symbols': [], 'user_mentions': [{'screen_name': 'IPL', 'name': 'IndianPremierLeague', 'id': 15639696, 'id_str': '15639696', 'indices': [0, 4]}, {'screen_name': 'mipaltan', 'name': 'Mumbai Indians', 'id': 106345557, 'id_str': '106345557', 'indices': [5, 14]}, {'screen_name': 'mipaltan', 'name': 'Mumbai Indians', 'id': 106345557, 'id_str': '106345557', 'indices': [15, 24]}, {'screen_name': 'IPL', 'name': 'IndianPremierLeague', 'id': 15639696, 'id_str': '15639696', 'indices': [65, 69]}], 'urls': []}, metadata={'iso_language_code': 'en', 'result_type': 'recent'}, source='Twitter for Android', source_url='http://twitter.com/download/android', in_reply_to_status_id=1321872806238248961, in_reply_to_status_id_str='1321872806238248961', in_reply_to_user_id=15639696, in_reply_to_user_id_str='15639696', in_reply_to_screen_name='IPL', author=User(_api=<tweepy.api.API object at 0x00000230B6583250>, _json={'id': 3279501402, 'id_str': '3279501402', 'name': 'Aditya Saha', 'screen_name': 'adityakumar480', 'location': 'Bangalore , India', 'description': 'Just figured out how to change my bio.', 'url': None, 'entities': {'description': {'urls': []}}, 'protected': False, 'followers_count': 468, 'friends_count': 560, 'listed_count': 4, 'created_at': 'Tue Jul 14 12:30:43 +0000 2015', 'favourites_count': 100656, 'utc_offset': None, 'time_zone': None, 'geo_enabled': True, 'verified': False, 'statuses_count': 36601, 'lang': None, 'contributors_enabled': False, 'is_translator': False, 'is_translation_enabled': False, 'profile_background_color': 'C0DEED', 'profile_background_image_url': 'http://abs.twimg.com/images/themes/theme1/bg.png', 'profile_background_image_url_https': 'https://abs.twimg.com/images/themes/theme1/bg.png', 'profile_background_tile': False, 'profile_image_url': 'http://pbs.twimg.com/profile_images/1217887996277489664/fGlaGs14_normal.jpg', 'profile_image_url_https': 'https://pbs.twimg.com/profile_images/1217887996277489664/fGlaGs14_normal.jpg', 'profile_banner_url': 'https://pbs.twimg.com/profile_banners/3279501402/1575869597', 'profile_link_color': '1DA1F2', 'profile_sidebar_border_color': 'C0DEED', 'profile_sidebar_fill_color': 'DDEEF6', 'profile_text_color': '333333', 'profile_use_background_image': True, 'has_extended_profile': True, 'default_profile': True, 'default_profile_image': False, 'following': False, 'follow_request_sent': False, 'notifications': False, 'translator_type': 'none'}, id=3279501402, id_str='3279501402', name='Aditya Saha', screen_name='adityakumar480', location='Bangalore , India', description='Just figured out how to change my bio.', url=None, entities={'description': {'urls': []}}, protected=False, followers_count=468, friends_count=560, listed_count=4, created_at=datetime.datetime(2015, 7, 14, 12, 30, 43), favourites_count=100656, utc_offset=None, time_zone=None, geo_enabled=True, verified=False, statuses_count=36601, lang=None, contributors_enabled=False, is_translator=False, is_translation_enabled=False, profile_background_color='C0DEED', profile_background_image_url='http://abs.twimg.com/images/themes/theme1/bg.png', profile_background_image_url_https='https://abs.twimg.com/images/themes/theme1/bg.png', profile_background_tile=False, profile_image_url='http://pbs.twimg.com/profile_images/1217887996277489664/fGlaGs14_normal.jpg', profile_image_url_https='https://pbs.twimg.com/profile_images/1217887996277489664/fGlaGs14_normal.jpg', profile_banner_url='https://pbs.twimg.com/profile_banners/3279501402/1575869597', profile_link_color='1DA1F2', profile_sidebar_border_color='C0DEED', profile_sidebar_fill_color='DDEEF6', profile_text_color='333333', profile_use_background_image=True, has_extended_profile=True, default_profile=True, default_profile_image=False, following=False, follow_request_sent=False, notifications=False, translator_type='none'), user=User(_api=<tweepy.api.API object at 0x00000230B6583250>, _json={'id': 3279501402, 'id_str': '3279501402', 'name': 'Aditya Saha', 'screen_name': 'adityakumar480', 'location': 'Bangalore , India', 'description': 'Just figured out how to change my bio.', 'url': None, 'entities': {'description': {'urls': []}}, 'protected': False, 'followers_count': 468, 'friends_count': 560, 'listed_count': 4, 'created_at': 'Tue Jul 14 12:30:43 +0000 2015', 'favourites_count': 100656, 'utc_offset': None, 'time_zone': None, 'geo_enabled': True, 'verified': False, 'statuses_count': 36601, 'lang': None, 'contributors_enabled': False, 'is_translator': False, 'is_translation_enabled': False, 'profile_background_color': 'C0DEED', 'profile_background_image_url': 'http://abs.twimg.com/images/themes/theme1/bg.png', 'profile_background_image_url_https': 'https://abs.twimg.com/images/themes/theme1/bg.png', 'profile_background_tile': False, 'profile_image_url': 'http://pbs.twimg.com/profile_images/1217887996277489664/fGlaGs14_normal.jpg', 'profile_image_url_https': 'https://pbs.twimg.com/profile_images/1217887996277489664/fGlaGs14_normal.jpg', 'profile_banner_url': 'https://pbs.twimg.com/profile_banners/3279501402/1575869597', 'profile_link_color': '1DA1F2', 'profile_sidebar_border_color': 'C0DEED', 'profile_sidebar_fill_color': 'DDEEF6', 'profile_text_color': '333333', 'profile_use_background_image': True, 'has_extended_profile': True, 'default_profile': True, 'default_profile_image': False, 'following': False, 'follow_request_sent': False, 'notifications': False, 'translator_type': 'none'}, id=3279501402, id_str='3279501402', name='Aditya Saha', screen_name='adityakumar480', location='Bangalore , India', description='Just figured out how to change my bio.', url=None, entities={'description': {'urls': []}}, protected=False, followers_count=468, friends_count=560, listed_count=4, created_at=datetime.datetime(2015, 7, 14, 12, 30, 43), favourites_count=100656, utc_offset=None, time_zone=None, geo_enabled=True, verified=False, statuses_count=36601, lang=None, contributors_enabled=False, is_translator=False, is_translation_enabled=False, profile_background_color='C0DEED', profile_background_image_url='http://abs.twimg.com/images/themes/theme1/bg.png', profile_background_image_url_https='https://abs.twimg.com/images/themes/theme1/bg.png', profile_background_tile=False, profile_image_url='http://pbs.twimg.com/profile_images/1217887996277489664/fGlaGs14_normal.jpg', profile_image_url_https='https://pbs.twimg.com/profile_images/1217887996277489664/fGlaGs14_normal.jpg', profile_banner_url='https://pbs.twimg.com/profile_banners/3279501402/1575869597', profile_link_color='1DA1F2', profile_sidebar_border_color='C0DEED', profile_sidebar_fill_color='DDEEF6', profile_text_color='333333', profile_use_background_image=True, has_extended_profile=True, default_profile=True, default_profile_image=False, following=False, follow_request_sent=False, notifications=False, translator_type='none'), geo=None, coordinates=None, place=None, contributors=None, is_quote_status=False, retweet_count=0, favorite_count=10, favorited=False, retweeted=False, lang='en') \n",
      "\n",
      "..........................\n",
      "\n",
      "Status(_api=<tweepy.api.API object at 0x00000230B6583250>, _json={'created_at': 'Thu Oct 29 17:46:03 +0000 2020', 'id': 1321870928981028864, 'id_str': '1321870928981028864', 'full_text': '@mipaltan Congratulations Team MI \\nKeep the Winning Momentum continue till the End &amp; Win IPL Trophy this year again', 'truncated': False, 'display_text_range': [10, 119], 'entities': {'hashtags': [], 'symbols': [], 'user_mentions': [{'screen_name': 'mipaltan', 'name': 'Mumbai Indians', 'id': 106345557, 'id_str': '106345557', 'indices': [0, 9]}], 'urls': []}, 'metadata': {'iso_language_code': 'en', 'result_type': 'recent'}, 'source': '<a href=\"http://twitter.com/download/android\" rel=\"nofollow\">Twitter for Android</a>', 'in_reply_to_status_id': 1321870004690714624, 'in_reply_to_status_id_str': '1321870004690714624', 'in_reply_to_user_id': 106345557, 'in_reply_to_user_id_str': '106345557', 'in_reply_to_screen_name': 'mipaltan', 'user': {'id': 141542822, 'id_str': '141542822', 'name': 'Ankit Mehta', 'screen_name': 'Anki4uever', 'location': 'Mumbai ', 'description': 'My 1 & Only Dream to work with @Akshaykumar Sir, Waiting for that Day to get appointment to show him My Scripts & get my Dream fulfilled. Proud to be #Mumbaikar', 'url': None, 'entities': {'description': {'urls': []}}, 'protected': False, 'followers_count': 4027, 'friends_count': 64, 'listed_count': 198, 'created_at': 'Sat May 08 10:34:17 +0000 2010', 'favourites_count': 374431, 'utc_offset': None, 'time_zone': None, 'geo_enabled': True, 'verified': False, 'statuses_count': 304693, 'lang': None, 'contributors_enabled': False, 'is_translator': False, 'is_translation_enabled': False, 'profile_background_color': '000000', 'profile_background_image_url': 'http://abs.twimg.com/images/themes/theme3/bg.gif', 'profile_background_image_url_https': 'https://abs.twimg.com/images/themes/theme3/bg.gif', 'profile_background_tile': False, 'profile_image_url': 'http://pbs.twimg.com/profile_images/1320706059162374144/gz9vzBeg_normal.jpg', 'profile_image_url_https': 'https://pbs.twimg.com/profile_images/1320706059162374144/gz9vzBeg_normal.jpg', 'profile_banner_url': 'https://pbs.twimg.com/profile_banners/141542822/1595761446', 'profile_link_color': 'CC3300', 'profile_sidebar_border_color': 'FFFFFF', 'profile_sidebar_fill_color': 'E3E2DE', 'profile_text_color': '634047', 'profile_use_background_image': True, 'has_extended_profile': True, 'default_profile': False, 'default_profile_image': False, 'following': False, 'follow_request_sent': False, 'notifications': False, 'translator_type': 'none'}, 'geo': None, 'coordinates': None, 'place': None, 'contributors': None, 'is_quote_status': False, 'retweet_count': 0, 'favorite_count': 8, 'favorited': False, 'retweeted': False, 'lang': 'en'}, created_at=datetime.datetime(2020, 10, 29, 17, 46, 3), id=1321870928981028864, id_str='1321870928981028864', full_text='@mipaltan Congratulations Team MI \\nKeep the Winning Momentum continue till the End &amp; Win IPL Trophy this year again', truncated=False, display_text_range=[10, 119], entities={'hashtags': [], 'symbols': [], 'user_mentions': [{'screen_name': 'mipaltan', 'name': 'Mumbai Indians', 'id': 106345557, 'id_str': '106345557', 'indices': [0, 9]}], 'urls': []}, metadata={'iso_language_code': 'en', 'result_type': 'recent'}, source='Twitter for Android', source_url='http://twitter.com/download/android', in_reply_to_status_id=1321870004690714624, in_reply_to_status_id_str='1321870004690714624', in_reply_to_user_id=106345557, in_reply_to_user_id_str='106345557', in_reply_to_screen_name='mipaltan', author=User(_api=<tweepy.api.API object at 0x00000230B6583250>, _json={'id': 141542822, 'id_str': '141542822', 'name': 'Ankit Mehta', 'screen_name': 'Anki4uever', 'location': 'Mumbai ', 'description': 'My 1 & Only Dream to work with @Akshaykumar Sir, Waiting for that Day to get appointment to show him My Scripts & get my Dream fulfilled. Proud to be #Mumbaikar', 'url': None, 'entities': {'description': {'urls': []}}, 'protected': False, 'followers_count': 4027, 'friends_count': 64, 'listed_count': 198, 'created_at': 'Sat May 08 10:34:17 +0000 2010', 'favourites_count': 374431, 'utc_offset': None, 'time_zone': None, 'geo_enabled': True, 'verified': False, 'statuses_count': 304693, 'lang': None, 'contributors_enabled': False, 'is_translator': False, 'is_translation_enabled': False, 'profile_background_color': '000000', 'profile_background_image_url': 'http://abs.twimg.com/images/themes/theme3/bg.gif', 'profile_background_image_url_https': 'https://abs.twimg.com/images/themes/theme3/bg.gif', 'profile_background_tile': False, 'profile_image_url': 'http://pbs.twimg.com/profile_images/1320706059162374144/gz9vzBeg_normal.jpg', 'profile_image_url_https': 'https://pbs.twimg.com/profile_images/1320706059162374144/gz9vzBeg_normal.jpg', 'profile_banner_url': 'https://pbs.twimg.com/profile_banners/141542822/1595761446', 'profile_link_color': 'CC3300', 'profile_sidebar_border_color': 'FFFFFF', 'profile_sidebar_fill_color': 'E3E2DE', 'profile_text_color': '634047', 'profile_use_background_image': True, 'has_extended_profile': True, 'default_profile': False, 'default_profile_image': False, 'following': False, 'follow_request_sent': False, 'notifications': False, 'translator_type': 'none'}, id=141542822, id_str='141542822', name='Ankit Mehta', screen_name='Anki4uever', location='Mumbai ', description='My 1 & Only Dream to work with @Akshaykumar Sir, Waiting for that Day to get appointment to show him My Scripts & get my Dream fulfilled. Proud to be #Mumbaikar', url=None, entities={'description': {'urls': []}}, protected=False, followers_count=4027, friends_count=64, listed_count=198, created_at=datetime.datetime(2010, 5, 8, 10, 34, 17), favourites_count=374431, utc_offset=None, time_zone=None, geo_enabled=True, verified=False, statuses_count=304693, lang=None, contributors_enabled=False, is_translator=False, is_translation_enabled=False, profile_background_color='000000', profile_background_image_url='http://abs.twimg.com/images/themes/theme3/bg.gif', profile_background_image_url_https='https://abs.twimg.com/images/themes/theme3/bg.gif', profile_background_tile=False, profile_image_url='http://pbs.twimg.com/profile_images/1320706059162374144/gz9vzBeg_normal.jpg', profile_image_url_https='https://pbs.twimg.com/profile_images/1320706059162374144/gz9vzBeg_normal.jpg', profile_banner_url='https://pbs.twimg.com/profile_banners/141542822/1595761446', profile_link_color='CC3300', profile_sidebar_border_color='FFFFFF', profile_sidebar_fill_color='E3E2DE', profile_text_color='634047', profile_use_background_image=True, has_extended_profile=True, default_profile=False, default_profile_image=False, following=False, follow_request_sent=False, notifications=False, translator_type='none'), user=User(_api=<tweepy.api.API object at 0x00000230B6583250>, _json={'id': 141542822, 'id_str': '141542822', 'name': 'Ankit Mehta', 'screen_name': 'Anki4uever', 'location': 'Mumbai ', 'description': 'My 1 & Only Dream to work with @Akshaykumar Sir, Waiting for that Day to get appointment to show him My Scripts & get my Dream fulfilled. Proud to be #Mumbaikar', 'url': None, 'entities': {'description': {'urls': []}}, 'protected': False, 'followers_count': 4027, 'friends_count': 64, 'listed_count': 198, 'created_at': 'Sat May 08 10:34:17 +0000 2010', 'favourites_count': 374431, 'utc_offset': None, 'time_zone': None, 'geo_enabled': True, 'verified': False, 'statuses_count': 304693, 'lang': None, 'contributors_enabled': False, 'is_translator': False, 'is_translation_enabled': False, 'profile_background_color': '000000', 'profile_background_image_url': 'http://abs.twimg.com/images/themes/theme3/bg.gif', 'profile_background_image_url_https': 'https://abs.twimg.com/images/themes/theme3/bg.gif', 'profile_background_tile': False, 'profile_image_url': 'http://pbs.twimg.com/profile_images/1320706059162374144/gz9vzBeg_normal.jpg', 'profile_image_url_https': 'https://pbs.twimg.com/profile_images/1320706059162374144/gz9vzBeg_normal.jpg', 'profile_banner_url': 'https://pbs.twimg.com/profile_banners/141542822/1595761446', 'profile_link_color': 'CC3300', 'profile_sidebar_border_color': 'FFFFFF', 'profile_sidebar_fill_color': 'E3E2DE', 'profile_text_color': '634047', 'profile_use_background_image': True, 'has_extended_profile': True, 'default_profile': False, 'default_profile_image': False, 'following': False, 'follow_request_sent': False, 'notifications': False, 'translator_type': 'none'}, id=141542822, id_str='141542822', name='Ankit Mehta', screen_name='Anki4uever', location='Mumbai ', description='My 1 & Only Dream to work with @Akshaykumar Sir, Waiting for that Day to get appointment to show him My Scripts & get my Dream fulfilled. Proud to be #Mumbaikar', url=None, entities={'description': {'urls': []}}, protected=False, followers_count=4027, friends_count=64, listed_count=198, created_at=datetime.datetime(2010, 5, 8, 10, 34, 17), favourites_count=374431, utc_offset=None, time_zone=None, geo_enabled=True, verified=False, statuses_count=304693, lang=None, contributors_enabled=False, is_translator=False, is_translation_enabled=False, profile_background_color='000000', profile_background_image_url='http://abs.twimg.com/images/themes/theme3/bg.gif', profile_background_image_url_https='https://abs.twimg.com/images/themes/theme3/bg.gif', profile_background_tile=False, profile_image_url='http://pbs.twimg.com/profile_images/1320706059162374144/gz9vzBeg_normal.jpg', profile_image_url_https='https://pbs.twimg.com/profile_images/1320706059162374144/gz9vzBeg_normal.jpg', profile_banner_url='https://pbs.twimg.com/profile_banners/141542822/1595761446', profile_link_color='CC3300', profile_sidebar_border_color='FFFFFF', profile_sidebar_fill_color='E3E2DE', profile_text_color='634047', profile_use_background_image=True, has_extended_profile=True, default_profile=False, default_profile_image=False, following=False, follow_request_sent=False, notifications=False, translator_type='none'), geo=None, coordinates=None, place=None, contributors=None, is_quote_status=False, retweet_count=0, favorite_count=8, favorited=False, retweeted=False, lang='en') \n",
      "\n",
      "..........................\n",
      "\n",
      "Status(_api=<tweepy.api.API object at 0x00000230B6583250>, _json={'created_at': 'Thu Oct 29 17:41:59 +0000 2020', 'id': 1321869908402085895, 'id_str': '1321869908402085895', 'full_text': '11:11 #MI winning IPL 2020 💙', 'truncated': False, 'display_text_range': [0, 28], 'entities': {'hashtags': [{'text': 'MI', 'indices': [6, 9]}], 'symbols': [], 'user_mentions': [], 'urls': []}, 'metadata': {'iso_language_code': 'en', 'result_type': 'recent'}, 'source': '<a href=\"http://twitter.com/download/android\" rel=\"nofollow\">Twitter for Android</a>', 'in_reply_to_status_id': None, 'in_reply_to_status_id_str': None, 'in_reply_to_user_id': None, 'in_reply_to_user_id_str': None, 'in_reply_to_screen_name': None, 'user': {'id': 3109355492, 'id_str': '3109355492', 'name': 'kashvi | MI 💙', 'screen_name': 'kashvix', 'location': 'Mumbai', 'description': 'pathetically aesthetic', 'url': None, 'entities': {'description': {'urls': []}}, 'protected': False, 'followers_count': 1305, 'friends_count': 203, 'listed_count': 11, 'created_at': 'Fri Mar 27 06:03:06 +0000 2015', 'favourites_count': 25646, 'utc_offset': None, 'time_zone': None, 'geo_enabled': True, 'verified': False, 'statuses_count': 64092, 'lang': None, 'contributors_enabled': False, 'is_translator': False, 'is_translation_enabled': False, 'profile_background_color': 'C0DEED', 'profile_background_image_url': 'http://abs.twimg.com/images/themes/theme1/bg.png', 'profile_background_image_url_https': 'https://abs.twimg.com/images/themes/theme1/bg.png', 'profile_background_tile': False, 'profile_image_url': 'http://pbs.twimg.com/profile_images/1317436819508613121/NNBmJ1IS_normal.jpg', 'profile_image_url_https': 'https://pbs.twimg.com/profile_images/1317436819508613121/NNBmJ1IS_normal.jpg', 'profile_banner_url': 'https://pbs.twimg.com/profile_banners/3109355492/1586105723', 'profile_link_color': '1DA1F2', 'profile_sidebar_border_color': 'C0DEED', 'profile_sidebar_fill_color': 'DDEEF6', 'profile_text_color': '333333', 'profile_use_background_image': True, 'has_extended_profile': True, 'default_profile': True, 'default_profile_image': False, 'following': False, 'follow_request_sent': False, 'notifications': False, 'translator_type': 'none'}, 'geo': None, 'coordinates': None, 'place': None, 'contributors': None, 'is_quote_status': False, 'retweet_count': 0, 'favorite_count': 0, 'favorited': False, 'retweeted': False, 'lang': 'en'}, created_at=datetime.datetime(2020, 10, 29, 17, 41, 59), id=1321869908402085895, id_str='1321869908402085895', full_text='11:11 #MI winning IPL 2020 💙', truncated=False, display_text_range=[0, 28], entities={'hashtags': [{'text': 'MI', 'indices': [6, 9]}], 'symbols': [], 'user_mentions': [], 'urls': []}, metadata={'iso_language_code': 'en', 'result_type': 'recent'}, source='Twitter for Android', source_url='http://twitter.com/download/android', in_reply_to_status_id=None, in_reply_to_status_id_str=None, in_reply_to_user_id=None, in_reply_to_user_id_str=None, in_reply_to_screen_name=None, author=User(_api=<tweepy.api.API object at 0x00000230B6583250>, _json={'id': 3109355492, 'id_str': '3109355492', 'name': 'kashvi | MI 💙', 'screen_name': 'kashvix', 'location': 'Mumbai', 'description': 'pathetically aesthetic', 'url': None, 'entities': {'description': {'urls': []}}, 'protected': False, 'followers_count': 1305, 'friends_count': 203, 'listed_count': 11, 'created_at': 'Fri Mar 27 06:03:06 +0000 2015', 'favourites_count': 25646, 'utc_offset': None, 'time_zone': None, 'geo_enabled': True, 'verified': False, 'statuses_count': 64092, 'lang': None, 'contributors_enabled': False, 'is_translator': False, 'is_translation_enabled': False, 'profile_background_color': 'C0DEED', 'profile_background_image_url': 'http://abs.twimg.com/images/themes/theme1/bg.png', 'profile_background_image_url_https': 'https://abs.twimg.com/images/themes/theme1/bg.png', 'profile_background_tile': False, 'profile_image_url': 'http://pbs.twimg.com/profile_images/1317436819508613121/NNBmJ1IS_normal.jpg', 'profile_image_url_https': 'https://pbs.twimg.com/profile_images/1317436819508613121/NNBmJ1IS_normal.jpg', 'profile_banner_url': 'https://pbs.twimg.com/profile_banners/3109355492/1586105723', 'profile_link_color': '1DA1F2', 'profile_sidebar_border_color': 'C0DEED', 'profile_sidebar_fill_color': 'DDEEF6', 'profile_text_color': '333333', 'profile_use_background_image': True, 'has_extended_profile': True, 'default_profile': True, 'default_profile_image': False, 'following': False, 'follow_request_sent': False, 'notifications': False, 'translator_type': 'none'}, id=3109355492, id_str='3109355492', name='kashvi | MI 💙', screen_name='kashvix', location='Mumbai', description='pathetically aesthetic', url=None, entities={'description': {'urls': []}}, protected=False, followers_count=1305, friends_count=203, listed_count=11, created_at=datetime.datetime(2015, 3, 27, 6, 3, 6), favourites_count=25646, utc_offset=None, time_zone=None, geo_enabled=True, verified=False, statuses_count=64092, lang=None, contributors_enabled=False, is_translator=False, is_translation_enabled=False, profile_background_color='C0DEED', profile_background_image_url='http://abs.twimg.com/images/themes/theme1/bg.png', profile_background_image_url_https='https://abs.twimg.com/images/themes/theme1/bg.png', profile_background_tile=False, profile_image_url='http://pbs.twimg.com/profile_images/1317436819508613121/NNBmJ1IS_normal.jpg', profile_image_url_https='https://pbs.twimg.com/profile_images/1317436819508613121/NNBmJ1IS_normal.jpg', profile_banner_url='https://pbs.twimg.com/profile_banners/3109355492/1586105723', profile_link_color='1DA1F2', profile_sidebar_border_color='C0DEED', profile_sidebar_fill_color='DDEEF6', profile_text_color='333333', profile_use_background_image=True, has_extended_profile=True, default_profile=True, default_profile_image=False, following=False, follow_request_sent=False, notifications=False, translator_type='none'), user=User(_api=<tweepy.api.API object at 0x00000230B6583250>, _json={'id': 3109355492, 'id_str': '3109355492', 'name': 'kashvi | MI 💙', 'screen_name': 'kashvix', 'location': 'Mumbai', 'description': 'pathetically aesthetic', 'url': None, 'entities': {'description': {'urls': []}}, 'protected': False, 'followers_count': 1305, 'friends_count': 203, 'listed_count': 11, 'created_at': 'Fri Mar 27 06:03:06 +0000 2015', 'favourites_count': 25646, 'utc_offset': None, 'time_zone': None, 'geo_enabled': True, 'verified': False, 'statuses_count': 64092, 'lang': None, 'contributors_enabled': False, 'is_translator': False, 'is_translation_enabled': False, 'profile_background_color': 'C0DEED', 'profile_background_image_url': 'http://abs.twimg.com/images/themes/theme1/bg.png', 'profile_background_image_url_https': 'https://abs.twimg.com/images/themes/theme1/bg.png', 'profile_background_tile': False, 'profile_image_url': 'http://pbs.twimg.com/profile_images/1317436819508613121/NNBmJ1IS_normal.jpg', 'profile_image_url_https': 'https://pbs.twimg.com/profile_images/1317436819508613121/NNBmJ1IS_normal.jpg', 'profile_banner_url': 'https://pbs.twimg.com/profile_banners/3109355492/1586105723', 'profile_link_color': '1DA1F2', 'profile_sidebar_border_color': 'C0DEED', 'profile_sidebar_fill_color': 'DDEEF6', 'profile_text_color': '333333', 'profile_use_background_image': True, 'has_extended_profile': True, 'default_profile': True, 'default_profile_image': False, 'following': False, 'follow_request_sent': False, 'notifications': False, 'translator_type': 'none'}, id=3109355492, id_str='3109355492', name='kashvi | MI 💙', screen_name='kashvix', location='Mumbai', description='pathetically aesthetic', url=None, entities={'description': {'urls': []}}, protected=False, followers_count=1305, friends_count=203, listed_count=11, created_at=datetime.datetime(2015, 3, 27, 6, 3, 6), favourites_count=25646, utc_offset=None, time_zone=None, geo_enabled=True, verified=False, statuses_count=64092, lang=None, contributors_enabled=False, is_translator=False, is_translation_enabled=False, profile_background_color='C0DEED', profile_background_image_url='http://abs.twimg.com/images/themes/theme1/bg.png', profile_background_image_url_https='https://abs.twimg.com/images/themes/theme1/bg.png', profile_background_tile=False, profile_image_url='http://pbs.twimg.com/profile_images/1317436819508613121/NNBmJ1IS_normal.jpg', profile_image_url_https='https://pbs.twimg.com/profile_images/1317436819508613121/NNBmJ1IS_normal.jpg', profile_banner_url='https://pbs.twimg.com/profile_banners/3109355492/1586105723', profile_link_color='1DA1F2', profile_sidebar_border_color='C0DEED', profile_sidebar_fill_color='DDEEF6', profile_text_color='333333', profile_use_background_image=True, has_extended_profile=True, default_profile=True, default_profile_image=False, following=False, follow_request_sent=False, notifications=False, translator_type='none'), geo=None, coordinates=None, place=None, contributors=None, is_quote_status=False, retweet_count=0, favorite_count=0, favorited=False, retweeted=False, lang='en') \n",
      "\n",
      "..........................\n",
      "\n",
      "Status(_api=<tweepy.api.API object at 0x00000230B6583250>, _json={'created_at': 'Thu Oct 29 17:03:59 +0000 2020', 'id': 1321860344273235974, 'id_str': '1321860344273235974', 'full_text': 'The key to winning ipl matches. Score about 9-10 from overs 6-14 as the batting side . Easier said than done. MI win their matches because of it. RCB have the lowest scoring rate in those overs.Even today csk scored 77/2 as compared to kkr’s 49/3.The risk needs to be taken to win', 'truncated': False, 'display_text_range': [0, 280], 'entities': {'hashtags': [], 'symbols': [], 'user_mentions': [], 'urls': []}, 'metadata': {'iso_language_code': 'en', 'result_type': 'recent'}, 'source': '<a href=\"http://twitter.com/download/iphone\" rel=\"nofollow\">Twitter for iPhone</a>', 'in_reply_to_status_id': None, 'in_reply_to_status_id_str': None, 'in_reply_to_user_id': None, 'in_reply_to_user_id_str': None, 'in_reply_to_screen_name': None, 'user': {'id': 869142833046880256, 'id_str': '869142833046880256', 'name': 'Nikhil k', 'screen_name': 'Nikhilk_2001', 'location': 'The mysterious land of india', 'description': 'passionate for F1 ,cricket and football,Man Utd fan,love horses and speed, love to travel and meet new people, Ferrari fan,Charles Leclerc supporter.Polo player', 'url': 'https://t.co/TABIXKyI88', 'entities': {'url': {'urls': [{'url': 'https://t.co/TABIXKyI88', 'expanded_url': 'https://nikhilkumarf1.wordpress.com', 'display_url': 'nikhilkumarf1.wordpress.com', 'indices': [0, 23]}]}, 'description': {'urls': []}}, 'protected': False, 'followers_count': 37, 'friends_count': 1473, 'listed_count': 1, 'created_at': 'Mon May 29 10:46:14 +0000 2017', 'favourites_count': 662, 'utc_offset': None, 'time_zone': None, 'geo_enabled': True, 'verified': False, 'statuses_count': 575, 'lang': None, 'contributors_enabled': False, 'is_translator': False, 'is_translation_enabled': False, 'profile_background_color': 'F5F8FA', 'profile_background_image_url': None, 'profile_background_image_url_https': None, 'profile_background_tile': False, 'profile_image_url': 'http://pbs.twimg.com/profile_images/1289768115782299648/p56DCO06_normal.jpg', 'profile_image_url_https': 'https://pbs.twimg.com/profile_images/1289768115782299648/p56DCO06_normal.jpg', 'profile_link_color': '1DA1F2', 'profile_sidebar_border_color': 'C0DEED', 'profile_sidebar_fill_color': 'DDEEF6', 'profile_text_color': '333333', 'profile_use_background_image': True, 'has_extended_profile': False, 'default_profile': True, 'default_profile_image': False, 'following': False, 'follow_request_sent': False, 'notifications': False, 'translator_type': 'none'}, 'geo': None, 'coordinates': None, 'place': None, 'contributors': None, 'is_quote_status': False, 'retweet_count': 0, 'favorite_count': 0, 'favorited': False, 'retweeted': False, 'lang': 'en'}, created_at=datetime.datetime(2020, 10, 29, 17, 3, 59), id=1321860344273235974, id_str='1321860344273235974', full_text='The key to winning ipl matches. Score about 9-10 from overs 6-14 as the batting side . Easier said than done. MI win their matches because of it. RCB have the lowest scoring rate in those overs.Even today csk scored 77/2 as compared to kkr’s 49/3.The risk needs to be taken to win', truncated=False, display_text_range=[0, 280], entities={'hashtags': [], 'symbols': [], 'user_mentions': [], 'urls': []}, metadata={'iso_language_code': 'en', 'result_type': 'recent'}, source='Twitter for iPhone', source_url='http://twitter.com/download/iphone', in_reply_to_status_id=None, in_reply_to_status_id_str=None, in_reply_to_user_id=None, in_reply_to_user_id_str=None, in_reply_to_screen_name=None, author=User(_api=<tweepy.api.API object at 0x00000230B6583250>, _json={'id': 869142833046880256, 'id_str': '869142833046880256', 'name': 'Nikhil k', 'screen_name': 'Nikhilk_2001', 'location': 'The mysterious land of india', 'description': 'passionate for F1 ,cricket and football,Man Utd fan,love horses and speed, love to travel and meet new people, Ferrari fan,Charles Leclerc supporter.Polo player', 'url': 'https://t.co/TABIXKyI88', 'entities': {'url': {'urls': [{'url': 'https://t.co/TABIXKyI88', 'expanded_url': 'https://nikhilkumarf1.wordpress.com', 'display_url': 'nikhilkumarf1.wordpress.com', 'indices': [0, 23]}]}, 'description': {'urls': []}}, 'protected': False, 'followers_count': 37, 'friends_count': 1473, 'listed_count': 1, 'created_at': 'Mon May 29 10:46:14 +0000 2017', 'favourites_count': 662, 'utc_offset': None, 'time_zone': None, 'geo_enabled': True, 'verified': False, 'statuses_count': 575, 'lang': None, 'contributors_enabled': False, 'is_translator': False, 'is_translation_enabled': False, 'profile_background_color': 'F5F8FA', 'profile_background_image_url': None, 'profile_background_image_url_https': None, 'profile_background_tile': False, 'profile_image_url': 'http://pbs.twimg.com/profile_images/1289768115782299648/p56DCO06_normal.jpg', 'profile_image_url_https': 'https://pbs.twimg.com/profile_images/1289768115782299648/p56DCO06_normal.jpg', 'profile_link_color': '1DA1F2', 'profile_sidebar_border_color': 'C0DEED', 'profile_sidebar_fill_color': 'DDEEF6', 'profile_text_color': '333333', 'profile_use_background_image': True, 'has_extended_profile': False, 'default_profile': True, 'default_profile_image': False, 'following': False, 'follow_request_sent': False, 'notifications': False, 'translator_type': 'none'}, id=869142833046880256, id_str='869142833046880256', name='Nikhil k', screen_name='Nikhilk_2001', location='The mysterious land of india', description='passionate for F1 ,cricket and football,Man Utd fan,love horses and speed, love to travel and meet new people, Ferrari fan,Charles Leclerc supporter.Polo player', url='https://t.co/TABIXKyI88', entities={'url': {'urls': [{'url': 'https://t.co/TABIXKyI88', 'expanded_url': 'https://nikhilkumarf1.wordpress.com', 'display_url': 'nikhilkumarf1.wordpress.com', 'indices': [0, 23]}]}, 'description': {'urls': []}}, protected=False, followers_count=37, friends_count=1473, listed_count=1, created_at=datetime.datetime(2017, 5, 29, 10, 46, 14), favourites_count=662, utc_offset=None, time_zone=None, geo_enabled=True, verified=False, statuses_count=575, lang=None, contributors_enabled=False, is_translator=False, is_translation_enabled=False, profile_background_color='F5F8FA', profile_background_image_url=None, profile_background_image_url_https=None, profile_background_tile=False, profile_image_url='http://pbs.twimg.com/profile_images/1289768115782299648/p56DCO06_normal.jpg', profile_image_url_https='https://pbs.twimg.com/profile_images/1289768115782299648/p56DCO06_normal.jpg', profile_link_color='1DA1F2', profile_sidebar_border_color='C0DEED', profile_sidebar_fill_color='DDEEF6', profile_text_color='333333', profile_use_background_image=True, has_extended_profile=False, default_profile=True, default_profile_image=False, following=False, follow_request_sent=False, notifications=False, translator_type='none'), user=User(_api=<tweepy.api.API object at 0x00000230B6583250>, _json={'id': 869142833046880256, 'id_str': '869142833046880256', 'name': 'Nikhil k', 'screen_name': 'Nikhilk_2001', 'location': 'The mysterious land of india', 'description': 'passionate for F1 ,cricket and football,Man Utd fan,love horses and speed, love to travel and meet new people, Ferrari fan,Charles Leclerc supporter.Polo player', 'url': 'https://t.co/TABIXKyI88', 'entities': {'url': {'urls': [{'url': 'https://t.co/TABIXKyI88', 'expanded_url': 'https://nikhilkumarf1.wordpress.com', 'display_url': 'nikhilkumarf1.wordpress.com', 'indices': [0, 23]}]}, 'description': {'urls': []}}, 'protected': False, 'followers_count': 37, 'friends_count': 1473, 'listed_count': 1, 'created_at': 'Mon May 29 10:46:14 +0000 2017', 'favourites_count': 662, 'utc_offset': None, 'time_zone': None, 'geo_enabled': True, 'verified': False, 'statuses_count': 575, 'lang': None, 'contributors_enabled': False, 'is_translator': False, 'is_translation_enabled': False, 'profile_background_color': 'F5F8FA', 'profile_background_image_url': None, 'profile_background_image_url_https': None, 'profile_background_tile': False, 'profile_image_url': 'http://pbs.twimg.com/profile_images/1289768115782299648/p56DCO06_normal.jpg', 'profile_image_url_https': 'https://pbs.twimg.com/profile_images/1289768115782299648/p56DCO06_normal.jpg', 'profile_link_color': '1DA1F2', 'profile_sidebar_border_color': 'C0DEED', 'profile_sidebar_fill_color': 'DDEEF6', 'profile_text_color': '333333', 'profile_use_background_image': True, 'has_extended_profile': False, 'default_profile': True, 'default_profile_image': False, 'following': False, 'follow_request_sent': False, 'notifications': False, 'translator_type': 'none'}, id=869142833046880256, id_str='869142833046880256', name='Nikhil k', screen_name='Nikhilk_2001', location='The mysterious land of india', description='passionate for F1 ,cricket and football,Man Utd fan,love horses and speed, love to travel and meet new people, Ferrari fan,Charles Leclerc supporter.Polo player', url='https://t.co/TABIXKyI88', entities={'url': {'urls': [{'url': 'https://t.co/TABIXKyI88', 'expanded_url': 'https://nikhilkumarf1.wordpress.com', 'display_url': 'nikhilkumarf1.wordpress.com', 'indices': [0, 23]}]}, 'description': {'urls': []}}, protected=False, followers_count=37, friends_count=1473, listed_count=1, created_at=datetime.datetime(2017, 5, 29, 10, 46, 14), favourites_count=662, utc_offset=None, time_zone=None, geo_enabled=True, verified=False, statuses_count=575, lang=None, contributors_enabled=False, is_translator=False, is_translation_enabled=False, profile_background_color='F5F8FA', profile_background_image_url=None, profile_background_image_url_https=None, profile_background_tile=False, profile_image_url='http://pbs.twimg.com/profile_images/1289768115782299648/p56DCO06_normal.jpg', profile_image_url_https='https://pbs.twimg.com/profile_images/1289768115782299648/p56DCO06_normal.jpg', profile_link_color='1DA1F2', profile_sidebar_border_color='C0DEED', profile_sidebar_fill_color='DDEEF6', profile_text_color='333333', profile_use_background_image=True, has_extended_profile=False, default_profile=True, default_profile_image=False, following=False, follow_request_sent=False, notifications=False, translator_type='none'), geo=None, coordinates=None, place=None, contributors=None, is_quote_status=False, retweet_count=0, favorite_count=0, favorited=False, retweeted=False, lang='en') \n",
      "\n",
      "..........................\n",
      "\n",
      "Status(_api=<tweepy.api.API object at 0x00000230B6583250>, _json={'created_at': 'Thu Oct 29 14:50:50 +0000 2020', 'id': 1321826834107953152, 'id_str': '1321826834107953152', 'full_text': '@Sirchahal No hate for SKY , he is gem🤩 but he was part of kkr 2014 winning team and MI 2019 winning team so it means 2 IPL trophies and by the same logic virat was a part 2011 WC and 2013 champions trophy so you decide IPL is big or worldcup and champion trophy ? 😁😁😁😁', 'truncated': False, 'display_text_range': [11, 269], 'entities': {'hashtags': [], 'symbols': [], 'user_mentions': [{'screen_name': 'Sirchahal', 'name': 'Sir Yuzi Chahal❁AmiKKR❤️', 'id': 961824768356794368, 'id_str': '961824768356794368', 'indices': [0, 10]}], 'urls': []}, 'metadata': {'iso_language_code': 'en', 'result_type': 'recent'}, 'source': '<a href=\"http://twitter.com/download/android\" rel=\"nofollow\">Twitter for Android</a>', 'in_reply_to_status_id': 1321811153996054528, 'in_reply_to_status_id_str': '1321811153996054528', 'in_reply_to_user_id': 961824768356794368, 'in_reply_to_user_id_str': '961824768356794368', 'in_reply_to_screen_name': 'Sirchahal', 'user': {'id': 2957050274, 'id_str': '2957050274', 'name': 'PRATYAKSH 💙~Delhi Capitals~💙', 'screen_name': '_Pratyaksh_', 'location': 'India', 'description': '▪️Viratian ♥️💞\\n▪️Sports lover 💕💯\\n▪️Bigg boss is 👉♥️🔥\\n▪️Delhite 🏠\\n▪️PRO BJP 💮\\n▪️MARVEL ♥️♥️♥️', 'url': 'https://t.co/bb6kc4blE6', 'entities': {'url': {'urls': [{'url': 'https://t.co/bb6kc4blE6', 'expanded_url': 'http://www.instagram.com/pratyaksh._.sharma/', 'display_url': 'instagram.com/pratyaksh._.sh…', 'indices': [0, 23]}]}, 'description': {'urls': []}}, 'protected': False, 'followers_count': 71, 'friends_count': 179, 'listed_count': 0, 'created_at': 'Sat Jan 03 08:47:41 +0000 2015', 'favourites_count': 12240, 'utc_offset': None, 'time_zone': None, 'geo_enabled': False, 'verified': False, 'statuses_count': 5995, 'lang': None, 'contributors_enabled': False, 'is_translator': False, 'is_translation_enabled': False, 'profile_background_color': 'C0DEED', 'profile_background_image_url': 'http://abs.twimg.com/images/themes/theme1/bg.png', 'profile_background_image_url_https': 'https://abs.twimg.com/images/themes/theme1/bg.png', 'profile_background_tile': False, 'profile_image_url': 'http://pbs.twimg.com/profile_images/1317548261784182784/S5AYAEdj_normal.jpg', 'profile_image_url_https': 'https://pbs.twimg.com/profile_images/1317548261784182784/S5AYAEdj_normal.jpg', 'profile_banner_url': 'https://pbs.twimg.com/profile_banners/2957050274/1458448604', 'profile_link_color': '1DA1F2', 'profile_sidebar_border_color': 'C0DEED', 'profile_sidebar_fill_color': 'DDEEF6', 'profile_text_color': '333333', 'profile_use_background_image': True, 'has_extended_profile': True, 'default_profile': True, 'default_profile_image': False, 'following': False, 'follow_request_sent': False, 'notifications': False, 'translator_type': 'none'}, 'geo': None, 'coordinates': None, 'place': None, 'contributors': None, 'is_quote_status': False, 'retweet_count': 0, 'favorite_count': 1, 'favorited': False, 'retweeted': False, 'lang': 'en'}, created_at=datetime.datetime(2020, 10, 29, 14, 50, 50), id=1321826834107953152, id_str='1321826834107953152', full_text='@Sirchahal No hate for SKY , he is gem🤩 but he was part of kkr 2014 winning team and MI 2019 winning team so it means 2 IPL trophies and by the same logic virat was a part 2011 WC and 2013 champions trophy so you decide IPL is big or worldcup and champion trophy ? 😁😁😁😁', truncated=False, display_text_range=[11, 269], entities={'hashtags': [], 'symbols': [], 'user_mentions': [{'screen_name': 'Sirchahal', 'name': 'Sir Yuzi Chahal❁AmiKKR❤️', 'id': 961824768356794368, 'id_str': '961824768356794368', 'indices': [0, 10]}], 'urls': []}, metadata={'iso_language_code': 'en', 'result_type': 'recent'}, source='Twitter for Android', source_url='http://twitter.com/download/android', in_reply_to_status_id=1321811153996054528, in_reply_to_status_id_str='1321811153996054528', in_reply_to_user_id=961824768356794368, in_reply_to_user_id_str='961824768356794368', in_reply_to_screen_name='Sirchahal', author=User(_api=<tweepy.api.API object at 0x00000230B6583250>, _json={'id': 2957050274, 'id_str': '2957050274', 'name': 'PRATYAKSH 💙~Delhi Capitals~💙', 'screen_name': '_Pratyaksh_', 'location': 'India', 'description': '▪️Viratian ♥️💞\\n▪️Sports lover 💕💯\\n▪️Bigg boss is 👉♥️🔥\\n▪️Delhite 🏠\\n▪️PRO BJP 💮\\n▪️MARVEL ♥️♥️♥️', 'url': 'https://t.co/bb6kc4blE6', 'entities': {'url': {'urls': [{'url': 'https://t.co/bb6kc4blE6', 'expanded_url': 'http://www.instagram.com/pratyaksh._.sharma/', 'display_url': 'instagram.com/pratyaksh._.sh…', 'indices': [0, 23]}]}, 'description': {'urls': []}}, 'protected': False, 'followers_count': 71, 'friends_count': 179, 'listed_count': 0, 'created_at': 'Sat Jan 03 08:47:41 +0000 2015', 'favourites_count': 12240, 'utc_offset': None, 'time_zone': None, 'geo_enabled': False, 'verified': False, 'statuses_count': 5995, 'lang': None, 'contributors_enabled': False, 'is_translator': False, 'is_translation_enabled': False, 'profile_background_color': 'C0DEED', 'profile_background_image_url': 'http://abs.twimg.com/images/themes/theme1/bg.png', 'profile_background_image_url_https': 'https://abs.twimg.com/images/themes/theme1/bg.png', 'profile_background_tile': False, 'profile_image_url': 'http://pbs.twimg.com/profile_images/1317548261784182784/S5AYAEdj_normal.jpg', 'profile_image_url_https': 'https://pbs.twimg.com/profile_images/1317548261784182784/S5AYAEdj_normal.jpg', 'profile_banner_url': 'https://pbs.twimg.com/profile_banners/2957050274/1458448604', 'profile_link_color': '1DA1F2', 'profile_sidebar_border_color': 'C0DEED', 'profile_sidebar_fill_color': 'DDEEF6', 'profile_text_color': '333333', 'profile_use_background_image': True, 'has_extended_profile': True, 'default_profile': True, 'default_profile_image': False, 'following': False, 'follow_request_sent': False, 'notifications': False, 'translator_type': 'none'}, id=2957050274, id_str='2957050274', name='PRATYAKSH 💙~Delhi Capitals~💙', screen_name='_Pratyaksh_', location='India', description='▪️Viratian ♥️💞\\n▪️Sports lover 💕💯\\n▪️Bigg boss is 👉♥️🔥\\n▪️Delhite 🏠\\n▪️PRO BJP 💮\\n▪️MARVEL ♥️♥️♥️', url='https://t.co/bb6kc4blE6', entities={'url': {'urls': [{'url': 'https://t.co/bb6kc4blE6', 'expanded_url': 'http://www.instagram.com/pratyaksh._.sharma/', 'display_url': 'instagram.com/pratyaksh._.sh…', 'indices': [0, 23]}]}, 'description': {'urls': []}}, protected=False, followers_count=71, friends_count=179, listed_count=0, created_at=datetime.datetime(2015, 1, 3, 8, 47, 41), favourites_count=12240, utc_offset=None, time_zone=None, geo_enabled=False, verified=False, statuses_count=5995, lang=None, contributors_enabled=False, is_translator=False, is_translation_enabled=False, profile_background_color='C0DEED', profile_background_image_url='http://abs.twimg.com/images/themes/theme1/bg.png', profile_background_image_url_https='https://abs.twimg.com/images/themes/theme1/bg.png', profile_background_tile=False, profile_image_url='http://pbs.twimg.com/profile_images/1317548261784182784/S5AYAEdj_normal.jpg', profile_image_url_https='https://pbs.twimg.com/profile_images/1317548261784182784/S5AYAEdj_normal.jpg', profile_banner_url='https://pbs.twimg.com/profile_banners/2957050274/1458448604', profile_link_color='1DA1F2', profile_sidebar_border_color='C0DEED', profile_sidebar_fill_color='DDEEF6', profile_text_color='333333', profile_use_background_image=True, has_extended_profile=True, default_profile=True, default_profile_image=False, following=False, follow_request_sent=False, notifications=False, translator_type='none'), user=User(_api=<tweepy.api.API object at 0x00000230B6583250>, _json={'id': 2957050274, 'id_str': '2957050274', 'name': 'PRATYAKSH 💙~Delhi Capitals~💙', 'screen_name': '_Pratyaksh_', 'location': 'India', 'description': '▪️Viratian ♥️💞\\n▪️Sports lover 💕💯\\n▪️Bigg boss is 👉♥️🔥\\n▪️Delhite 🏠\\n▪️PRO BJP 💮\\n▪️MARVEL ♥️♥️♥️', 'url': 'https://t.co/bb6kc4blE6', 'entities': {'url': {'urls': [{'url': 'https://t.co/bb6kc4blE6', 'expanded_url': 'http://www.instagram.com/pratyaksh._.sharma/', 'display_url': 'instagram.com/pratyaksh._.sh…', 'indices': [0, 23]}]}, 'description': {'urls': []}}, 'protected': False, 'followers_count': 71, 'friends_count': 179, 'listed_count': 0, 'created_at': 'Sat Jan 03 08:47:41 +0000 2015', 'favourites_count': 12240, 'utc_offset': None, 'time_zone': None, 'geo_enabled': False, 'verified': False, 'statuses_count': 5995, 'lang': None, 'contributors_enabled': False, 'is_translator': False, 'is_translation_enabled': False, 'profile_background_color': 'C0DEED', 'profile_background_image_url': 'http://abs.twimg.com/images/themes/theme1/bg.png', 'profile_background_image_url_https': 'https://abs.twimg.com/images/themes/theme1/bg.png', 'profile_background_tile': False, 'profile_image_url': 'http://pbs.twimg.com/profile_images/1317548261784182784/S5AYAEdj_normal.jpg', 'profile_image_url_https': 'https://pbs.twimg.com/profile_images/1317548261784182784/S5AYAEdj_normal.jpg', 'profile_banner_url': 'https://pbs.twimg.com/profile_banners/2957050274/1458448604', 'profile_link_color': '1DA1F2', 'profile_sidebar_border_color': 'C0DEED', 'profile_sidebar_fill_color': 'DDEEF6', 'profile_text_color': '333333', 'profile_use_background_image': True, 'has_extended_profile': True, 'default_profile': True, 'default_profile_image': False, 'following': False, 'follow_request_sent': False, 'notifications': False, 'translator_type': 'none'}, id=2957050274, id_str='2957050274', name='PRATYAKSH 💙~Delhi Capitals~💙', screen_name='_Pratyaksh_', location='India', description='▪️Viratian ♥️💞\\n▪️Sports lover 💕💯\\n▪️Bigg boss is 👉♥️🔥\\n▪️Delhite 🏠\\n▪️PRO BJP 💮\\n▪️MARVEL ♥️♥️♥️', url='https://t.co/bb6kc4blE6', entities={'url': {'urls': [{'url': 'https://t.co/bb6kc4blE6', 'expanded_url': 'http://www.instagram.com/pratyaksh._.sharma/', 'display_url': 'instagram.com/pratyaksh._.sh…', 'indices': [0, 23]}]}, 'description': {'urls': []}}, protected=False, followers_count=71, friends_count=179, listed_count=0, created_at=datetime.datetime(2015, 1, 3, 8, 47, 41), favourites_count=12240, utc_offset=None, time_zone=None, geo_enabled=False, verified=False, statuses_count=5995, lang=None, contributors_enabled=False, is_translator=False, is_translation_enabled=False, profile_background_color='C0DEED', profile_background_image_url='http://abs.twimg.com/images/themes/theme1/bg.png', profile_background_image_url_https='https://abs.twimg.com/images/themes/theme1/bg.png', profile_background_tile=False, profile_image_url='http://pbs.twimg.com/profile_images/1317548261784182784/S5AYAEdj_normal.jpg', profile_image_url_https='https://pbs.twimg.com/profile_images/1317548261784182784/S5AYAEdj_normal.jpg', profile_banner_url='https://pbs.twimg.com/profile_banners/2957050274/1458448604', profile_link_color='1DA1F2', profile_sidebar_border_color='C0DEED', profile_sidebar_fill_color='DDEEF6', profile_text_color='333333', profile_use_background_image=True, has_extended_profile=True, default_profile=True, default_profile_image=False, following=False, follow_request_sent=False, notifications=False, translator_type='none'), geo=None, coordinates=None, place=None, contributors=None, is_quote_status=False, retweet_count=0, favorite_count=1, favorited=False, retweeted=False, lang='en') \n",
      "\n",
      "..........................\n",
      "\n",
      "Status(_api=<tweepy.api.API object at 0x00000230B6583250>, _json={'created_at': 'Thu Oct 29 14:11:56 +0000 2020', 'id': 1321817045051207683, 'id_str': '1321817045051207683', 'full_text': '@roesque45 Doing fine. MI winning ipl this time too.', 'truncated': False, 'display_text_range': [11, 52], 'entities': {'hashtags': [], 'symbols': [], 'user_mentions': [{'screen_name': 'roesque45', 'name': '𝑹𝒆𝒆𝒕 ⋆', 'id': 1193801980113588225, 'id_str': '1193801980113588225', 'indices': [0, 10]}], 'urls': []}, 'metadata': {'iso_language_code': 'en', 'result_type': 'recent'}, 'source': '<a href=\"http://twitter.com/download/android\" rel=\"nofollow\">Twitter for Android</a>', 'in_reply_to_status_id': 1321816681765769217, 'in_reply_to_status_id_str': '1321816681765769217', 'in_reply_to_user_id': 1193801980113588225, 'in_reply_to_user_id_str': '1193801980113588225', 'in_reply_to_screen_name': 'roesque45', 'user': {'id': 1068890455364923392, 'id_str': '1068890455364923392', 'name': 'The Joker 🃏', 'screen_name': 'Joker122018', 'location': 'India', 'description': 'Joker- The bad guy', 'url': None, 'entities': {'description': {'urls': []}}, 'protected': False, 'followers_count': 770, 'friends_count': 501, 'listed_count': 1, 'created_at': 'Sat Dec 01 15:31:58 +0000 2018', 'favourites_count': 32406, 'utc_offset': None, 'time_zone': None, 'geo_enabled': True, 'verified': False, 'statuses_count': 22562, 'lang': None, 'contributors_enabled': False, 'is_translator': False, 'is_translation_enabled': False, 'profile_background_color': 'F5F8FA', 'profile_background_image_url': None, 'profile_background_image_url_https': None, 'profile_background_tile': False, 'profile_image_url': 'http://pbs.twimg.com/profile_images/1293063396519116801/VB_biFBz_normal.jpg', 'profile_image_url_https': 'https://pbs.twimg.com/profile_images/1293063396519116801/VB_biFBz_normal.jpg', 'profile_banner_url': 'https://pbs.twimg.com/profile_banners/1068890455364923392/1594094143', 'profile_link_color': '1DA1F2', 'profile_sidebar_border_color': 'C0DEED', 'profile_sidebar_fill_color': 'DDEEF6', 'profile_text_color': '333333', 'profile_use_background_image': True, 'has_extended_profile': False, 'default_profile': True, 'default_profile_image': False, 'following': False, 'follow_request_sent': False, 'notifications': False, 'translator_type': 'none'}, 'geo': None, 'coordinates': None, 'place': None, 'contributors': None, 'is_quote_status': False, 'retweet_count': 0, 'favorite_count': 0, 'favorited': False, 'retweeted': False, 'lang': 'en'}, created_at=datetime.datetime(2020, 10, 29, 14, 11, 56), id=1321817045051207683, id_str='1321817045051207683', full_text='@roesque45 Doing fine. MI winning ipl this time too.', truncated=False, display_text_range=[11, 52], entities={'hashtags': [], 'symbols': [], 'user_mentions': [{'screen_name': 'roesque45', 'name': '𝑹𝒆𝒆𝒕 ⋆', 'id': 1193801980113588225, 'id_str': '1193801980113588225', 'indices': [0, 10]}], 'urls': []}, metadata={'iso_language_code': 'en', 'result_type': 'recent'}, source='Twitter for Android', source_url='http://twitter.com/download/android', in_reply_to_status_id=1321816681765769217, in_reply_to_status_id_str='1321816681765769217', in_reply_to_user_id=1193801980113588225, in_reply_to_user_id_str='1193801980113588225', in_reply_to_screen_name='roesque45', author=User(_api=<tweepy.api.API object at 0x00000230B6583250>, _json={'id': 1068890455364923392, 'id_str': '1068890455364923392', 'name': 'The Joker 🃏', 'screen_name': 'Joker122018', 'location': 'India', 'description': 'Joker- The bad guy', 'url': None, 'entities': {'description': {'urls': []}}, 'protected': False, 'followers_count': 770, 'friends_count': 501, 'listed_count': 1, 'created_at': 'Sat Dec 01 15:31:58 +0000 2018', 'favourites_count': 32406, 'utc_offset': None, 'time_zone': None, 'geo_enabled': True, 'verified': False, 'statuses_count': 22562, 'lang': None, 'contributors_enabled': False, 'is_translator': False, 'is_translation_enabled': False, 'profile_background_color': 'F5F8FA', 'profile_background_image_url': None, 'profile_background_image_url_https': None, 'profile_background_tile': False, 'profile_image_url': 'http://pbs.twimg.com/profile_images/1293063396519116801/VB_biFBz_normal.jpg', 'profile_image_url_https': 'https://pbs.twimg.com/profile_images/1293063396519116801/VB_biFBz_normal.jpg', 'profile_banner_url': 'https://pbs.twimg.com/profile_banners/1068890455364923392/1594094143', 'profile_link_color': '1DA1F2', 'profile_sidebar_border_color': 'C0DEED', 'profile_sidebar_fill_color': 'DDEEF6', 'profile_text_color': '333333', 'profile_use_background_image': True, 'has_extended_profile': False, 'default_profile': True, 'default_profile_image': False, 'following': False, 'follow_request_sent': False, 'notifications': False, 'translator_type': 'none'}, id=1068890455364923392, id_str='1068890455364923392', name='The Joker 🃏', screen_name='Joker122018', location='India', description='Joker- The bad guy', url=None, entities={'description': {'urls': []}}, protected=False, followers_count=770, friends_count=501, listed_count=1, created_at=datetime.datetime(2018, 12, 1, 15, 31, 58), favourites_count=32406, utc_offset=None, time_zone=None, geo_enabled=True, verified=False, statuses_count=22562, lang=None, contributors_enabled=False, is_translator=False, is_translation_enabled=False, profile_background_color='F5F8FA', profile_background_image_url=None, profile_background_image_url_https=None, profile_background_tile=False, profile_image_url='http://pbs.twimg.com/profile_images/1293063396519116801/VB_biFBz_normal.jpg', profile_image_url_https='https://pbs.twimg.com/profile_images/1293063396519116801/VB_biFBz_normal.jpg', profile_banner_url='https://pbs.twimg.com/profile_banners/1068890455364923392/1594094143', profile_link_color='1DA1F2', profile_sidebar_border_color='C0DEED', profile_sidebar_fill_color='DDEEF6', profile_text_color='333333', profile_use_background_image=True, has_extended_profile=False, default_profile=True, default_profile_image=False, following=False, follow_request_sent=False, notifications=False, translator_type='none'), user=User(_api=<tweepy.api.API object at 0x00000230B6583250>, _json={'id': 1068890455364923392, 'id_str': '1068890455364923392', 'name': 'The Joker 🃏', 'screen_name': 'Joker122018', 'location': 'India', 'description': 'Joker- The bad guy', 'url': None, 'entities': {'description': {'urls': []}}, 'protected': False, 'followers_count': 770, 'friends_count': 501, 'listed_count': 1, 'created_at': 'Sat Dec 01 15:31:58 +0000 2018', 'favourites_count': 32406, 'utc_offset': None, 'time_zone': None, 'geo_enabled': True, 'verified': False, 'statuses_count': 22562, 'lang': None, 'contributors_enabled': False, 'is_translator': False, 'is_translation_enabled': False, 'profile_background_color': 'F5F8FA', 'profile_background_image_url': None, 'profile_background_image_url_https': None, 'profile_background_tile': False, 'profile_image_url': 'http://pbs.twimg.com/profile_images/1293063396519116801/VB_biFBz_normal.jpg', 'profile_image_url_https': 'https://pbs.twimg.com/profile_images/1293063396519116801/VB_biFBz_normal.jpg', 'profile_banner_url': 'https://pbs.twimg.com/profile_banners/1068890455364923392/1594094143', 'profile_link_color': '1DA1F2', 'profile_sidebar_border_color': 'C0DEED', 'profile_sidebar_fill_color': 'DDEEF6', 'profile_text_color': '333333', 'profile_use_background_image': True, 'has_extended_profile': False, 'default_profile': True, 'default_profile_image': False, 'following': False, 'follow_request_sent': False, 'notifications': False, 'translator_type': 'none'}, id=1068890455364923392, id_str='1068890455364923392', name='The Joker 🃏', screen_name='Joker122018', location='India', description='Joker- The bad guy', url=None, entities={'description': {'urls': []}}, protected=False, followers_count=770, friends_count=501, listed_count=1, created_at=datetime.datetime(2018, 12, 1, 15, 31, 58), favourites_count=32406, utc_offset=None, time_zone=None, geo_enabled=True, verified=False, statuses_count=22562, lang=None, contributors_enabled=False, is_translator=False, is_translation_enabled=False, profile_background_color='F5F8FA', profile_background_image_url=None, profile_background_image_url_https=None, profile_background_tile=False, profile_image_url='http://pbs.twimg.com/profile_images/1293063396519116801/VB_biFBz_normal.jpg', profile_image_url_https='https://pbs.twimg.com/profile_images/1293063396519116801/VB_biFBz_normal.jpg', profile_banner_url='https://pbs.twimg.com/profile_banners/1068890455364923392/1594094143', profile_link_color='1DA1F2', profile_sidebar_border_color='C0DEED', profile_sidebar_fill_color='DDEEF6', profile_text_color='333333', profile_use_background_image=True, has_extended_profile=False, default_profile=True, default_profile_image=False, following=False, follow_request_sent=False, notifications=False, translator_type='none'), geo=None, coordinates=None, place=None, contributors=None, is_quote_status=False, retweet_count=0, favorite_count=0, favorited=False, retweeted=False, lang='en') \n",
      "\n",
      "..........................\n",
      "\n",
      "Status(_api=<tweepy.api.API object at 0x00000230B6583250>, _json={'created_at': 'Thu Oct 29 10:10:24 +0000 2020', 'id': 1321756259830280197, 'id_str': '1321756259830280197', 'full_text': \"@jersy_45 @PavanNaidu07 @AnshumaNot @RCBTweets @ABdeVilliers17 mi itself is winning by umpires only!!🤣😂🤣😂🤣😂🤣😂🤣krunal pandya couldn't took abd wicket even once in his lifetime without umpires support, same with mi, they would have not won a single match in ipl history without umpires support🤣😂🤣🤣😂🤣😂🤣😂🤣😂🤣😂🤣😂🤣cry donkey\", 'truncated': False, 'display_text_range': [63, 317], 'entities': {'hashtags': [], 'symbols': [], 'user_mentions': [{'screen_name': 'jersy_45', 'name': 'Abhishek #MI', 'id': 1222765205580468225, 'id_str': '1222765205580468225', 'indices': [0, 9]}, {'screen_name': 'PavanNaidu07', 'name': 'Pavan Naidu', 'id': 1273565765686292480, 'id_str': '1273565765686292480', 'indices': [10, 23]}, {'screen_name': 'AnshumaNot', 'name': \"Not Anshuman's lenses are broken\", 'id': 1244610637214257155, 'id_str': '1244610637214257155', 'indices': [24, 35]}, {'screen_name': 'RCBTweets', 'name': 'Royal Challengers Bangalore', 'id': 70931004, 'id_str': '70931004', 'indices': [36, 46]}, {'screen_name': 'ABdeVilliers17', 'name': 'AB de Villiers', 'id': 139876086, 'id_str': '139876086', 'indices': [47, 62]}], 'urls': []}, 'metadata': {'iso_language_code': 'en', 'result_type': 'recent'}, 'source': '<a href=\"https://mobile.twitter.com\" rel=\"nofollow\">Twitter Web App</a>', 'in_reply_to_status_id': 1321738269818720256, 'in_reply_to_status_id_str': '1321738269818720256', 'in_reply_to_user_id': 1222765205580468225, 'in_reply_to_user_id_str': '1222765205580468225', 'in_reply_to_screen_name': 'jersy_45', 'user': {'id': 1311580788287254528, 'id_str': '1311580788287254528', 'name': 'hariharan. v', 'screen_name': 'harihar60255482', 'location': '', 'description': '', 'url': None, 'entities': {'description': {'urls': []}}, 'protected': False, 'followers_count': 0, 'friends_count': 1, 'listed_count': 0, 'created_at': 'Thu Oct 01 08:17:04 +0000 2020', 'favourites_count': 118, 'utc_offset': None, 'time_zone': None, 'geo_enabled': False, 'verified': False, 'statuses_count': 129, 'lang': None, 'contributors_enabled': False, 'is_translator': False, 'is_translation_enabled': False, 'profile_background_color': 'F5F8FA', 'profile_background_image_url': None, 'profile_background_image_url_https': None, 'profile_background_tile': False, 'profile_image_url': 'http://abs.twimg.com/sticky/default_profile_images/default_profile_normal.png', 'profile_image_url_https': 'https://abs.twimg.com/sticky/default_profile_images/default_profile_normal.png', 'profile_link_color': '1DA1F2', 'profile_sidebar_border_color': 'C0DEED', 'profile_sidebar_fill_color': 'DDEEF6', 'profile_text_color': '333333', 'profile_use_background_image': True, 'has_extended_profile': True, 'default_profile': True, 'default_profile_image': True, 'following': False, 'follow_request_sent': False, 'notifications': False, 'translator_type': 'none'}, 'geo': None, 'coordinates': None, 'place': None, 'contributors': None, 'is_quote_status': False, 'retweet_count': 0, 'favorite_count': 2, 'favorited': False, 'retweeted': False, 'lang': 'en'}, created_at=datetime.datetime(2020, 10, 29, 10, 10, 24), id=1321756259830280197, id_str='1321756259830280197', full_text=\"@jersy_45 @PavanNaidu07 @AnshumaNot @RCBTweets @ABdeVilliers17 mi itself is winning by umpires only!!🤣😂🤣😂🤣😂🤣😂🤣krunal pandya couldn't took abd wicket even once in his lifetime without umpires support, same with mi, they would have not won a single match in ipl history without umpires support🤣😂🤣🤣😂🤣😂🤣😂🤣😂🤣😂🤣😂🤣cry donkey\", truncated=False, display_text_range=[63, 317], entities={'hashtags': [], 'symbols': [], 'user_mentions': [{'screen_name': 'jersy_45', 'name': 'Abhishek #MI', 'id': 1222765205580468225, 'id_str': '1222765205580468225', 'indices': [0, 9]}, {'screen_name': 'PavanNaidu07', 'name': 'Pavan Naidu', 'id': 1273565765686292480, 'id_str': '1273565765686292480', 'indices': [10, 23]}, {'screen_name': 'AnshumaNot', 'name': \"Not Anshuman's lenses are broken\", 'id': 1244610637214257155, 'id_str': '1244610637214257155', 'indices': [24, 35]}, {'screen_name': 'RCBTweets', 'name': 'Royal Challengers Bangalore', 'id': 70931004, 'id_str': '70931004', 'indices': [36, 46]}, {'screen_name': 'ABdeVilliers17', 'name': 'AB de Villiers', 'id': 139876086, 'id_str': '139876086', 'indices': [47, 62]}], 'urls': []}, metadata={'iso_language_code': 'en', 'result_type': 'recent'}, source='Twitter Web App', source_url='https://mobile.twitter.com', in_reply_to_status_id=1321738269818720256, in_reply_to_status_id_str='1321738269818720256', in_reply_to_user_id=1222765205580468225, in_reply_to_user_id_str='1222765205580468225', in_reply_to_screen_name='jersy_45', author=User(_api=<tweepy.api.API object at 0x00000230B6583250>, _json={'id': 1311580788287254528, 'id_str': '1311580788287254528', 'name': 'hariharan. v', 'screen_name': 'harihar60255482', 'location': '', 'description': '', 'url': None, 'entities': {'description': {'urls': []}}, 'protected': False, 'followers_count': 0, 'friends_count': 1, 'listed_count': 0, 'created_at': 'Thu Oct 01 08:17:04 +0000 2020', 'favourites_count': 118, 'utc_offset': None, 'time_zone': None, 'geo_enabled': False, 'verified': False, 'statuses_count': 129, 'lang': None, 'contributors_enabled': False, 'is_translator': False, 'is_translation_enabled': False, 'profile_background_color': 'F5F8FA', 'profile_background_image_url': None, 'profile_background_image_url_https': None, 'profile_background_tile': False, 'profile_image_url': 'http://abs.twimg.com/sticky/default_profile_images/default_profile_normal.png', 'profile_image_url_https': 'https://abs.twimg.com/sticky/default_profile_images/default_profile_normal.png', 'profile_link_color': '1DA1F2', 'profile_sidebar_border_color': 'C0DEED', 'profile_sidebar_fill_color': 'DDEEF6', 'profile_text_color': '333333', 'profile_use_background_image': True, 'has_extended_profile': True, 'default_profile': True, 'default_profile_image': True, 'following': False, 'follow_request_sent': False, 'notifications': False, 'translator_type': 'none'}, id=1311580788287254528, id_str='1311580788287254528', name='hariharan. v', screen_name='harihar60255482', location='', description='', url=None, entities={'description': {'urls': []}}, protected=False, followers_count=0, friends_count=1, listed_count=0, created_at=datetime.datetime(2020, 10, 1, 8, 17, 4), favourites_count=118, utc_offset=None, time_zone=None, geo_enabled=False, verified=False, statuses_count=129, lang=None, contributors_enabled=False, is_translator=False, is_translation_enabled=False, profile_background_color='F5F8FA', profile_background_image_url=None, profile_background_image_url_https=None, profile_background_tile=False, profile_image_url='http://abs.twimg.com/sticky/default_profile_images/default_profile_normal.png', profile_image_url_https='https://abs.twimg.com/sticky/default_profile_images/default_profile_normal.png', profile_link_color='1DA1F2', profile_sidebar_border_color='C0DEED', profile_sidebar_fill_color='DDEEF6', profile_text_color='333333', profile_use_background_image=True, has_extended_profile=True, default_profile=True, default_profile_image=True, following=False, follow_request_sent=False, notifications=False, translator_type='none'), user=User(_api=<tweepy.api.API object at 0x00000230B6583250>, _json={'id': 1311580788287254528, 'id_str': '1311580788287254528', 'name': 'hariharan. v', 'screen_name': 'harihar60255482', 'location': '', 'description': '', 'url': None, 'entities': {'description': {'urls': []}}, 'protected': False, 'followers_count': 0, 'friends_count': 1, 'listed_count': 0, 'created_at': 'Thu Oct 01 08:17:04 +0000 2020', 'favourites_count': 118, 'utc_offset': None, 'time_zone': None, 'geo_enabled': False, 'verified': False, 'statuses_count': 129, 'lang': None, 'contributors_enabled': False, 'is_translator': False, 'is_translation_enabled': False, 'profile_background_color': 'F5F8FA', 'profile_background_image_url': None, 'profile_background_image_url_https': None, 'profile_background_tile': False, 'profile_image_url': 'http://abs.twimg.com/sticky/default_profile_images/default_profile_normal.png', 'profile_image_url_https': 'https://abs.twimg.com/sticky/default_profile_images/default_profile_normal.png', 'profile_link_color': '1DA1F2', 'profile_sidebar_border_color': 'C0DEED', 'profile_sidebar_fill_color': 'DDEEF6', 'profile_text_color': '333333', 'profile_use_background_image': True, 'has_extended_profile': True, 'default_profile': True, 'default_profile_image': True, 'following': False, 'follow_request_sent': False, 'notifications': False, 'translator_type': 'none'}, id=1311580788287254528, id_str='1311580788287254528', name='hariharan. v', screen_name='harihar60255482', location='', description='', url=None, entities={'description': {'urls': []}}, protected=False, followers_count=0, friends_count=1, listed_count=0, created_at=datetime.datetime(2020, 10, 1, 8, 17, 4), favourites_count=118, utc_offset=None, time_zone=None, geo_enabled=False, verified=False, statuses_count=129, lang=None, contributors_enabled=False, is_translator=False, is_translation_enabled=False, profile_background_color='F5F8FA', profile_background_image_url=None, profile_background_image_url_https=None, profile_background_tile=False, profile_image_url='http://abs.twimg.com/sticky/default_profile_images/default_profile_normal.png', profile_image_url_https='https://abs.twimg.com/sticky/default_profile_images/default_profile_normal.png', profile_link_color='1DA1F2', profile_sidebar_border_color='C0DEED', profile_sidebar_fill_color='DDEEF6', profile_text_color='333333', profile_use_background_image=True, has_extended_profile=True, default_profile=True, default_profile_image=True, following=False, follow_request_sent=False, notifications=False, translator_type='none'), geo=None, coordinates=None, place=None, contributors=None, is_quote_status=False, retweet_count=0, favorite_count=2, favorited=False, retweeted=False, lang='en') \n",
      "\n",
      "..........................\n",
      "\n"
     ]
    }
   ],
   "source": [
    "Tweets = api.search( query , count=10 , lang='en' , exclude='retweets' , tweet_mode='extended' )\n",
    "for tweet in Tweets:\n",
    "    print(tweet,\"\\n\")\n",
    "    print(\"..........................\\n\")"
   ]
  },
  {
   "cell_type": "markdown",
   "metadata": {},
   "source": [
    "Get the tweets and some Attributes"
   ]
  },
  {
   "cell_type": "code",
   "execution_count": 15,
   "metadata": {},
   "outputs": [
    {
     "name": "stdout",
     "output_type": "stream",
     "text": [
      "Empty DataFrame\n",
      "Columns: [Tweets, User, User_statuses_count, user_followers, User_location, User_verified, fav_count, rt_count, tweet_date]\n",
      "Index: []\n"
     ]
    }
   ],
   "source": [
    "df = pd.DataFrame(columns = ['Tweets' , 'User' , 'User_statuses_count' , \n",
    "                            'user_followers' , 'User_location' , 'User_verified' ,\n",
    "                            'fav_count' , 'rt_count' , 'tweet_date'] )\n",
    "print(df)"
   ]
  },
  {
   "cell_type": "code",
   "execution_count": 16,
   "metadata": {},
   "outputs": [],
   "source": [
    "def stream(data, file_name):\n",
    "    i = 0\n",
    "    for tweet in tweepy.Cursor(api.search, q=data, count=100, lang='en').items():\n",
    "        print(i, end='\\r')\n",
    "        df.loc[i, 'Tweets'] = tweet.text\n",
    "        df.loc[i, 'User'] = tweet.user.name\n",
    "        df.loc[i, 'User_statuses_count'] = tweet.user.statuses_count\n",
    "        df.loc[i, 'user_followers'] = tweet.user.followers_count\n",
    "        df.loc[i, 'User_location'] = tweet.user.location\n",
    "        df.loc[i, 'User_verified'] = tweet.user.verified\n",
    "        df.loc[i, 'fav_count'] = tweet.favorite_count\n",
    "        df.loc[i, 'rt_count'] = tweet.retweet_count\n",
    "        df.loc[i, 'tweet_date'] = tweet.created_at\n",
    "        df.to_excel('{}.xlsx'.format(file_name))\n",
    "        i = i+1\n",
    "        if i == 1000:\n",
    "            break\n",
    "        else:\n",
    "            pass"
   ]
  },
  {
   "cell_type": "code",
   "execution_count": 17,
   "metadata": {},
   "outputs": [
    {
     "name": "stdout",
     "output_type": "stream",
     "text": [
      "451\r"
     ]
    }
   ],
   "source": [
    "stream(data=[\"MI winning IPL\"] , file_name='my_tweets')"
   ]
  },
  {
   "cell_type": "code",
   "execution_count": 18,
   "metadata": {},
   "outputs": [
    {
     "data": {
      "text/html": [
       "<div>\n",
       "<style scoped>\n",
       "    .dataframe tbody tr th:only-of-type {\n",
       "        vertical-align: middle;\n",
       "    }\n",
       "\n",
       "    .dataframe tbody tr th {\n",
       "        vertical-align: top;\n",
       "    }\n",
       "\n",
       "    .dataframe thead th {\n",
       "        text-align: right;\n",
       "    }\n",
       "</style>\n",
       "<table border=\"1\" class=\"dataframe\">\n",
       "  <thead>\n",
       "    <tr style=\"text-align: right;\">\n",
       "      <th></th>\n",
       "      <th>Tweets</th>\n",
       "      <th>User</th>\n",
       "      <th>User_statuses_count</th>\n",
       "      <th>user_followers</th>\n",
       "      <th>User_location</th>\n",
       "      <th>User_verified</th>\n",
       "      <th>fav_count</th>\n",
       "      <th>rt_count</th>\n",
       "      <th>tweet_date</th>\n",
       "    </tr>\n",
       "  </thead>\n",
       "  <tbody>\n",
       "    <tr>\n",
       "      <th>0</th>\n",
       "      <td>RT @Cricketracker: Another match-winning knock...</td>\n",
       "      <td>Manish Yadav</td>\n",
       "      <td>2304</td>\n",
       "      <td>147</td>\n",
       "      <td>Allahabad, India</td>\n",
       "      <td>False</td>\n",
       "      <td>0</td>\n",
       "      <td>44</td>\n",
       "      <td>2020-10-29 20:57:10</td>\n",
       "    </tr>\n",
       "    <tr>\n",
       "      <th>1</th>\n",
       "      <td>@Bum10Niru @RajeshBadugula1 @mipaltan Forget q...</td>\n",
       "      <td>Nikhil k</td>\n",
       "      <td>575</td>\n",
       "      <td>37</td>\n",
       "      <td>The mysterious land of india</td>\n",
       "      <td>False</td>\n",
       "      <td>2</td>\n",
       "      <td>0</td>\n",
       "      <td>2020-10-29 20:10:11</td>\n",
       "    </tr>\n",
       "    <tr>\n",
       "      <th>2</th>\n",
       "      <td>@Cricbuzz07 @IPL @mipaltan I dont see MI winni...</td>\n",
       "      <td>HaRun * cHAmueL *</td>\n",
       "      <td>408</td>\n",
       "      <td>9</td>\n",
       "      <td></td>\n",
       "      <td>False</td>\n",
       "      <td>1</td>\n",
       "      <td>0</td>\n",
       "      <td>2020-10-29 18:49:27</td>\n",
       "    </tr>\n",
       "    <tr>\n",
       "      <th>3</th>\n",
       "      <td>RT @Cricketracker: Another match-winning knock...</td>\n",
       "      <td>Nitin Kumar Agarwal</td>\n",
       "      <td>8533</td>\n",
       "      <td>21</td>\n",
       "      <td>Kolkata, India</td>\n",
       "      <td>False</td>\n",
       "      <td>0</td>\n",
       "      <td>44</td>\n",
       "      <td>2020-10-29 18:41:19</td>\n",
       "    </tr>\n",
       "    <tr>\n",
       "      <th>4</th>\n",
       "      <td>Then why are these so called virat fans so muc...</td>\n",
       "      <td>Sushrut Thakur</td>\n",
       "      <td>168</td>\n",
       "      <td>38</td>\n",
       "      <td>Goa</td>\n",
       "      <td>False</td>\n",
       "      <td>0</td>\n",
       "      <td>0</td>\n",
       "      <td>2020-10-29 17:59:20</td>\n",
       "    </tr>\n",
       "  </tbody>\n",
       "</table>\n",
       "</div>"
      ],
      "text/plain": [
       "                                              Tweets                 User  \\\n",
       "0  RT @Cricketracker: Another match-winning knock...         Manish Yadav   \n",
       "1  @Bum10Niru @RajeshBadugula1 @mipaltan Forget q...             Nikhil k   \n",
       "2  @Cricbuzz07 @IPL @mipaltan I dont see MI winni...    HaRun * cHAmueL *   \n",
       "3  RT @Cricketracker: Another match-winning knock...  Nitin Kumar Agarwal   \n",
       "4  Then why are these so called virat fans so muc...       Sushrut Thakur   \n",
       "\n",
       "  User_statuses_count user_followers                 User_location  \\\n",
       "0                2304            147              Allahabad, India   \n",
       "1                 575             37  The mysterious land of india   \n",
       "2                 408              9                                 \n",
       "3                8533             21                Kolkata, India   \n",
       "4                 168             38                           Goa   \n",
       "\n",
       "  User_verified fav_count rt_count           tweet_date  \n",
       "0         False         0       44  2020-10-29 20:57:10  \n",
       "1         False         2        0  2020-10-29 20:10:11  \n",
       "2         False         1        0  2020-10-29 18:49:27  \n",
       "3         False         0       44  2020-10-29 18:41:19  \n",
       "4         False         0        0  2020-10-29 17:59:20  "
      ]
     },
     "execution_count": 18,
     "metadata": {},
     "output_type": "execute_result"
    }
   ],
   "source": [
    "df.head()"
   ]
  },
  {
   "cell_type": "code",
   "execution_count": 19,
   "metadata": {},
   "outputs": [
    {
     "name": "stdout",
     "output_type": "stream",
     "text": [
      "Collecting textblob\n",
      "  Downloading textblob-0.15.3-py2.py3-none-any.whl (636 kB)\n",
      "Requirement already satisfied: nltk>=3.1 in c:\\users\\jagru\\anaconda3\\lib\\site-packages (from textblob) (3.5)\n",
      "Requirement already satisfied: regex in c:\\users\\jagru\\anaconda3\\lib\\site-packages (from nltk>=3.1->textblob) (2020.6.8)\n",
      "Requirement already satisfied: click in c:\\users\\jagru\\anaconda3\\lib\\site-packages (from nltk>=3.1->textblob) (7.1.2)\n",
      "Requirement already satisfied: joblib in c:\\users\\jagru\\anaconda3\\lib\\site-packages (from nltk>=3.1->textblob) (0.16.0)\n",
      "Requirement already satisfied: tqdm in c:\\users\\jagru\\anaconda3\\lib\\site-packages (from nltk>=3.1->textblob) (4.47.0)\n",
      "Installing collected packages: textblob\n",
      "Successfully installed textblob-0.15.3\n"
     ]
    }
   ],
   "source": [
    "!pip install textblob"
   ]
  },
  {
   "cell_type": "code",
   "execution_count": 20,
   "metadata": {},
   "outputs": [],
   "source": [
    "from textblob import TextBlob"
   ]
  },
  {
   "cell_type": "code",
   "execution_count": 21,
   "metadata": {},
   "outputs": [],
   "source": [
    "import re\n",
    "def clean_tweet(tweet):\n",
    "    return ' '.join(re.sub('(@[A-Za-z0-9]+)|([^0-9A-Za-z \\t])|(\\w+:\\/\\/\\S+)', ' ', tweet).split())"
   ]
  },
  {
   "cell_type": "code",
   "execution_count": 22,
   "metadata": {},
   "outputs": [],
   "source": [
    "def analyze_sentiment(tweet):\n",
    "    analysis = TextBlob(tweet)\n",
    "    if analysis.sentiment.polarity > 0:\n",
    "        return 'Positive'\n",
    "    elif analysis.sentiment.polarity == 0:\n",
    "        return 'Neutral'\n",
    "    else:\n",
    "        return 'Negative'"
   ]
  },
  {
   "cell_type": "code",
   "execution_count": 23,
   "metadata": {},
   "outputs": [],
   "source": [
    "df['clean_tweet'] = df['Tweets'].apply(lambda x : clean_tweet(x))"
   ]
  },
  {
   "cell_type": "code",
   "execution_count": 24,
   "metadata": {},
   "outputs": [
    {
     "data": {
      "text/html": [
       "<div>\n",
       "<style scoped>\n",
       "    .dataframe tbody tr th:only-of-type {\n",
       "        vertical-align: middle;\n",
       "    }\n",
       "\n",
       "    .dataframe tbody tr th {\n",
       "        vertical-align: top;\n",
       "    }\n",
       "\n",
       "    .dataframe thead th {\n",
       "        text-align: right;\n",
       "    }\n",
       "</style>\n",
       "<table border=\"1\" class=\"dataframe\">\n",
       "  <thead>\n",
       "    <tr style=\"text-align: right;\">\n",
       "      <th></th>\n",
       "      <th>Tweets</th>\n",
       "      <th>User</th>\n",
       "      <th>User_statuses_count</th>\n",
       "      <th>user_followers</th>\n",
       "      <th>User_location</th>\n",
       "      <th>User_verified</th>\n",
       "      <th>fav_count</th>\n",
       "      <th>rt_count</th>\n",
       "      <th>tweet_date</th>\n",
       "      <th>clean_tweet</th>\n",
       "    </tr>\n",
       "  </thead>\n",
       "  <tbody>\n",
       "    <tr>\n",
       "      <th>0</th>\n",
       "      <td>RT @Cricketracker: Another match-winning knock...</td>\n",
       "      <td>Manish Yadav</td>\n",
       "      <td>2304</td>\n",
       "      <td>147</td>\n",
       "      <td>Allahabad, India</td>\n",
       "      <td>False</td>\n",
       "      <td>0</td>\n",
       "      <td>44</td>\n",
       "      <td>2020-10-29 20:57:10</td>\n",
       "      <td>RT Another match winning knock from 14kumar Su...</td>\n",
       "    </tr>\n",
       "    <tr>\n",
       "      <th>1</th>\n",
       "      <td>@Bum10Niru @RajeshBadugula1 @mipaltan Forget q...</td>\n",
       "      <td>Nikhil k</td>\n",
       "      <td>575</td>\n",
       "      <td>37</td>\n",
       "      <td>The mysterious land of india</td>\n",
       "      <td>False</td>\n",
       "      <td>2</td>\n",
       "      <td>0</td>\n",
       "      <td>2020-10-29 20:10:11</td>\n",
       "      <td>Forget qualification They win one ipl trophy t...</td>\n",
       "    </tr>\n",
       "    <tr>\n",
       "      <th>2</th>\n",
       "      <td>@Cricbuzz07 @IPL @mipaltan I dont see MI winni...</td>\n",
       "      <td>HaRun * cHAmueL *</td>\n",
       "      <td>408</td>\n",
       "      <td>9</td>\n",
       "      <td></td>\n",
       "      <td>False</td>\n",
       "      <td>1</td>\n",
       "      <td>0</td>\n",
       "      <td>2020-10-29 18:49:27</td>\n",
       "      <td>I dont see MI winning th tournament KXIP will ...</td>\n",
       "    </tr>\n",
       "    <tr>\n",
       "      <th>3</th>\n",
       "      <td>RT @Cricketracker: Another match-winning knock...</td>\n",
       "      <td>Nitin Kumar Agarwal</td>\n",
       "      <td>8533</td>\n",
       "      <td>21</td>\n",
       "      <td>Kolkata, India</td>\n",
       "      <td>False</td>\n",
       "      <td>0</td>\n",
       "      <td>44</td>\n",
       "      <td>2020-10-29 18:41:19</td>\n",
       "      <td>RT Another match winning knock from 14kumar Su...</td>\n",
       "    </tr>\n",
       "    <tr>\n",
       "      <th>4</th>\n",
       "      <td>Then why are these so called virat fans so muc...</td>\n",
       "      <td>Sushrut Thakur</td>\n",
       "      <td>168</td>\n",
       "      <td>38</td>\n",
       "      <td>Goa</td>\n",
       "      <td>False</td>\n",
       "      <td>0</td>\n",
       "      <td>0</td>\n",
       "      <td>2020-10-29 17:59:20</td>\n",
       "      <td>Then why are these so called virat fans so muc...</td>\n",
       "    </tr>\n",
       "  </tbody>\n",
       "</table>\n",
       "</div>"
      ],
      "text/plain": [
       "                                              Tweets                 User  \\\n",
       "0  RT @Cricketracker: Another match-winning knock...         Manish Yadav   \n",
       "1  @Bum10Niru @RajeshBadugula1 @mipaltan Forget q...             Nikhil k   \n",
       "2  @Cricbuzz07 @IPL @mipaltan I dont see MI winni...    HaRun * cHAmueL *   \n",
       "3  RT @Cricketracker: Another match-winning knock...  Nitin Kumar Agarwal   \n",
       "4  Then why are these so called virat fans so muc...       Sushrut Thakur   \n",
       "\n",
       "  User_statuses_count user_followers                 User_location  \\\n",
       "0                2304            147              Allahabad, India   \n",
       "1                 575             37  The mysterious land of india   \n",
       "2                 408              9                                 \n",
       "3                8533             21                Kolkata, India   \n",
       "4                 168             38                           Goa   \n",
       "\n",
       "  User_verified fav_count rt_count           tweet_date  \\\n",
       "0         False         0       44  2020-10-29 20:57:10   \n",
       "1         False         2        0  2020-10-29 20:10:11   \n",
       "2         False         1        0  2020-10-29 18:49:27   \n",
       "3         False         0       44  2020-10-29 18:41:19   \n",
       "4         False         0        0  2020-10-29 17:59:20   \n",
       "\n",
       "                                         clean_tweet  \n",
       "0  RT Another match winning knock from 14kumar Su...  \n",
       "1  Forget qualification They win one ipl trophy t...  \n",
       "2  I dont see MI winning th tournament KXIP will ...  \n",
       "3  RT Another match winning knock from 14kumar Su...  \n",
       "4  Then why are these so called virat fans so muc...  "
      ]
     },
     "execution_count": 24,
     "metadata": {},
     "output_type": "execute_result"
    }
   ],
   "source": [
    "df.head()"
   ]
  },
  {
   "cell_type": "code",
   "execution_count": 25,
   "metadata": {},
   "outputs": [
    {
     "data": {
      "text/html": [
       "<div>\n",
       "<style scoped>\n",
       "    .dataframe tbody tr th:only-of-type {\n",
       "        vertical-align: middle;\n",
       "    }\n",
       "\n",
       "    .dataframe tbody tr th {\n",
       "        vertical-align: top;\n",
       "    }\n",
       "\n",
       "    .dataframe thead th {\n",
       "        text-align: right;\n",
       "    }\n",
       "</style>\n",
       "<table border=\"1\" class=\"dataframe\">\n",
       "  <thead>\n",
       "    <tr style=\"text-align: right;\">\n",
       "      <th></th>\n",
       "      <th>Tweets</th>\n",
       "      <th>User</th>\n",
       "      <th>User_statuses_count</th>\n",
       "      <th>user_followers</th>\n",
       "      <th>User_location</th>\n",
       "      <th>User_verified</th>\n",
       "      <th>fav_count</th>\n",
       "      <th>rt_count</th>\n",
       "      <th>tweet_date</th>\n",
       "      <th>clean_tweet</th>\n",
       "      <th>Sentiment</th>\n",
       "    </tr>\n",
       "  </thead>\n",
       "  <tbody>\n",
       "    <tr>\n",
       "      <th>0</th>\n",
       "      <td>RT @Cricketracker: Another match-winning knock...</td>\n",
       "      <td>Manish Yadav</td>\n",
       "      <td>2304</td>\n",
       "      <td>147</td>\n",
       "      <td>Allahabad, India</td>\n",
       "      <td>False</td>\n",
       "      <td>0</td>\n",
       "      <td>44</td>\n",
       "      <td>2020-10-29 20:57:10</td>\n",
       "      <td>RT Another match winning knock from 14kumar Su...</td>\n",
       "      <td>Positive</td>\n",
       "    </tr>\n",
       "    <tr>\n",
       "      <th>1</th>\n",
       "      <td>@Bum10Niru @RajeshBadugula1 @mipaltan Forget q...</td>\n",
       "      <td>Nikhil k</td>\n",
       "      <td>575</td>\n",
       "      <td>37</td>\n",
       "      <td>The mysterious land of india</td>\n",
       "      <td>False</td>\n",
       "      <td>2</td>\n",
       "      <td>0</td>\n",
       "      <td>2020-10-29 20:10:11</td>\n",
       "      <td>Forget qualification They win one ipl trophy t...</td>\n",
       "      <td>Positive</td>\n",
       "    </tr>\n",
       "    <tr>\n",
       "      <th>2</th>\n",
       "      <td>@Cricbuzz07 @IPL @mipaltan I dont see MI winni...</td>\n",
       "      <td>HaRun * cHAmueL *</td>\n",
       "      <td>408</td>\n",
       "      <td>9</td>\n",
       "      <td></td>\n",
       "      <td>False</td>\n",
       "      <td>1</td>\n",
       "      <td>0</td>\n",
       "      <td>2020-10-29 18:49:27</td>\n",
       "      <td>I dont see MI winning th tournament KXIP will ...</td>\n",
       "      <td>Positive</td>\n",
       "    </tr>\n",
       "    <tr>\n",
       "      <th>3</th>\n",
       "      <td>RT @Cricketracker: Another match-winning knock...</td>\n",
       "      <td>Nitin Kumar Agarwal</td>\n",
       "      <td>8533</td>\n",
       "      <td>21</td>\n",
       "      <td>Kolkata, India</td>\n",
       "      <td>False</td>\n",
       "      <td>0</td>\n",
       "      <td>44</td>\n",
       "      <td>2020-10-29 18:41:19</td>\n",
       "      <td>RT Another match winning knock from 14kumar Su...</td>\n",
       "      <td>Positive</td>\n",
       "    </tr>\n",
       "    <tr>\n",
       "      <th>4</th>\n",
       "      <td>Then why are these so called virat fans so muc...</td>\n",
       "      <td>Sushrut Thakur</td>\n",
       "      <td>168</td>\n",
       "      <td>38</td>\n",
       "      <td>Goa</td>\n",
       "      <td>False</td>\n",
       "      <td>0</td>\n",
       "      <td>0</td>\n",
       "      <td>2020-10-29 17:59:20</td>\n",
       "      <td>Then why are these so called virat fans so muc...</td>\n",
       "      <td>Positive</td>\n",
       "    </tr>\n",
       "  </tbody>\n",
       "</table>\n",
       "</div>"
      ],
      "text/plain": [
       "                                              Tweets                 User  \\\n",
       "0  RT @Cricketracker: Another match-winning knock...         Manish Yadav   \n",
       "1  @Bum10Niru @RajeshBadugula1 @mipaltan Forget q...             Nikhil k   \n",
       "2  @Cricbuzz07 @IPL @mipaltan I dont see MI winni...    HaRun * cHAmueL *   \n",
       "3  RT @Cricketracker: Another match-winning knock...  Nitin Kumar Agarwal   \n",
       "4  Then why are these so called virat fans so muc...       Sushrut Thakur   \n",
       "\n",
       "  User_statuses_count user_followers                 User_location  \\\n",
       "0                2304            147              Allahabad, India   \n",
       "1                 575             37  The mysterious land of india   \n",
       "2                 408              9                                 \n",
       "3                8533             21                Kolkata, India   \n",
       "4                 168             38                           Goa   \n",
       "\n",
       "  User_verified fav_count rt_count           tweet_date  \\\n",
       "0         False         0       44  2020-10-29 20:57:10   \n",
       "1         False         2        0  2020-10-29 20:10:11   \n",
       "2         False         1        0  2020-10-29 18:49:27   \n",
       "3         False         0       44  2020-10-29 18:41:19   \n",
       "4         False         0        0  2020-10-29 17:59:20   \n",
       "\n",
       "                                         clean_tweet Sentiment  \n",
       "0  RT Another match winning knock from 14kumar Su...  Positive  \n",
       "1  Forget qualification They win one ipl trophy t...  Positive  \n",
       "2  I dont see MI winning th tournament KXIP will ...  Positive  \n",
       "3  RT Another match winning knock from 14kumar Su...  Positive  \n",
       "4  Then why are these so called virat fans so muc...  Positive  "
      ]
     },
     "execution_count": 25,
     "metadata": {},
     "output_type": "execute_result"
    }
   ],
   "source": [
    "df['Sentiment'] = df['clean_tweet'].apply(lambda x : analyze_sentiment(x) )\n",
    "df.head()"
   ]
  },
  {
   "cell_type": "code",
   "execution_count": 26,
   "metadata": {},
   "outputs": [
    {
     "name": "stdout",
     "output_type": "stream",
     "text": [
      "Original tweet:\n",
      " @Bum10Niru @RajeshBadugula1 @mipaltan Forget qualification. They win one ipl trophy , their fans will make it sound… https://t.co/1JZx9USXCz\n",
      "\n",
      "Clean tweet:\n",
      " Forget qualification They win one ipl trophy their fans will make it sound\n",
      "\n",
      "Sentiment of the tweet:\n",
      " Positive\n"
     ]
    }
   ],
   "source": [
    "n = 1\n",
    "print(\"Original tweet:\\n\",df['Tweets'][n])\n",
    "print()\n",
    "print(\"Clean tweet:\\n\",df['clean_tweet'][n])\n",
    "print()\n",
    "print(\"Sentiment of the tweet:\\n\",df['Sentiment'][n])"
   ]
  },
  {
   "cell_type": "code",
   "execution_count": 27,
   "metadata": {},
   "outputs": [
    {
     "name": "stdout",
     "output_type": "stream",
     "text": [
      "Original tweet:\n",
      " RT @Cricketracker: Another match-winning knock from @surya_14kumar.\n",
      "\n",
      "#SuryaKumarYadav #MI #IPL2020 #Cricket #CricTracker \n",
      "\n",
      "( 📷 Source:  IPL…\n",
      "\n",
      "Clean tweet:\n",
      " RT Another match winning knock from 14kumar SuryaKumarYadav MI IPL2020 Cricket CricTracker Source IPL\n",
      "\n",
      "Sentiment of the tweet:\n",
      " Positive\n"
     ]
    }
   ],
   "source": [
    "n = 50\n",
    "print(\"Original tweet:\\n\",df['Tweets'][n])\n",
    "print()\n",
    "print(\"Clean tweet:\\n\",df['clean_tweet'][n])\n",
    "print()\n",
    "print(\"Sentiment of the tweet:\\n\",df['Sentiment'][n])"
   ]
  },
  {
   "cell_type": "code",
   "execution_count": 28,
   "metadata": {},
   "outputs": [
    {
     "name": "stdout",
     "output_type": "stream",
     "text": [
      "Original tweet:\n",
      " So Giant Killers #KXIP do it again! #MumbaiIndians and now #DelhiCapitals.\n",
      "Making the playoffs and winning IPL shou… https://t.co/MzqI4ghNqy\n",
      "\n",
      "Clean tweet:\n",
      " So Giant Killers KXIP do it again MumbaiIndians and now DelhiCapitals Making the playoffs and winning IPL shou\n",
      "\n",
      "Sentiment of the tweet:\n",
      " Positive\n"
     ]
    }
   ],
   "source": [
    "n = 451\n",
    "print(\"Original tweet:\\n\",df['Tweets'][n])\n",
    "print()\n",
    "print(\"Clean tweet:\\n\",df['clean_tweet'][n])\n",
    "print()\n",
    "print(\"Sentiment of the tweet:\\n\",df['Sentiment'][n])"
   ]
  },
  {
   "cell_type": "code",
   "execution_count": 29,
   "metadata": {},
   "outputs": [
    {
     "name": "stdout",
     "output_type": "stream",
     "text": [
      "Original tweet:\n",
      " congratulations, MI. on winning IPL 2020\n",
      "\n",
      "Clean tweet:\n",
      " congratulations MI on winning IPL 2020\n",
      "\n",
      "Sentiment of the tweet:\n",
      " Positive\n"
     ]
    }
   ],
   "source": [
    "n = 111\n",
    "print(\"Original tweet:\\n\",df['Tweets'][n])\n",
    "print()\n",
    "print(\"Clean tweet:\\n\",df['clean_tweet'][n])\n",
    "print()\n",
    "print(\"Sentiment of the tweet:\\n\",df['Sentiment'][n])"
   ]
  },
  {
   "cell_type": "code",
   "execution_count": 30,
   "metadata": {},
   "outputs": [
    {
     "data": {
      "text/plain": [
       "421"
      ]
     },
     "execution_count": 30,
     "metadata": {},
     "output_type": "execute_result"
    }
   ],
   "source": [
    "df[df.Sentiment == 'Positive'].shape[0]"
   ]
  },
  {
   "cell_type": "code",
   "execution_count": 31,
   "metadata": {},
   "outputs": [
    {
     "data": {
      "text/plain": [
       "19"
      ]
     },
     "execution_count": 31,
     "metadata": {},
     "output_type": "execute_result"
    }
   ],
   "source": [
    "df[df.Sentiment == 'Neutral'].shape[0]"
   ]
  },
  {
   "cell_type": "code",
   "execution_count": 32,
   "metadata": {},
   "outputs": [
    {
     "data": {
      "text/plain": [
       "12"
      ]
     },
     "execution_count": 32,
     "metadata": {},
     "output_type": "execute_result"
    }
   ],
   "source": [
    "df[df.Sentiment == 'Negative'].shape[0]"
   ]
  }
 ],
 "metadata": {
  "kernelspec": {
   "display_name": "Python 3",
   "language": "python",
   "name": "python3"
  },
  "language_info": {
   "codemirror_mode": {
    "name": "ipython",
    "version": 3
   },
   "file_extension": ".py",
   "mimetype": "text/x-python",
   "name": "python",
   "nbconvert_exporter": "python",
   "pygments_lexer": "ipython3",
   "version": "3.8.3"
  }
 },
 "nbformat": 4,
 "nbformat_minor": 4
}
