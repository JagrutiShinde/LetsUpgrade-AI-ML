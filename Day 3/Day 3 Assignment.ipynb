{
 "cells": [
  {
   "cell_type": "markdown",
   "metadata": {},
   "source": [
    "__Question 1 : Write a program to subtract two complex numbers in Python.__"
   ]
  },
  {
   "cell_type": "code",
   "execution_count": 4,
   "metadata": {},
   "outputs": [
    {
     "name": "stdout",
     "output_type": "stream",
     "text": [
      "substraction of two complex number (5+7j) and (3+2j) is = (2+5j)\n"
     ]
    }
   ],
   "source": [
    "x=5+7j\n",
    "y=3+2j\n",
    "z=x-y\n",
    "print(\"substraction of two complex number\", x,\"and\", y, \"is =\", z )"
   ]
  },
  {
   "cell_type": "markdown",
   "metadata": {},
   "source": [
    "__Question 2 : Write a program to find the fourth root of a number.__"
   ]
  },
  {
   "cell_type": "code",
   "execution_count": 7,
   "metadata": {},
   "outputs": [
    {
     "name": "stdout",
     "output_type": "stream",
     "text": [
      "The Fourth root of 128 is 3.363585661014858\n"
     ]
    }
   ],
   "source": [
    "x=128\n",
    "fourth_root=x**(1/4)\n",
    "print(\"The Fourth root of\",x,\"is\",fourth_root)"
   ]
  },
  {
   "cell_type": "markdown",
   "metadata": {},
   "source": [
    "__Question 3: Write a program to swap two numbers in Python with the help of a temporary variable.__"
   ]
  },
  {
   "cell_type": "code",
   "execution_count": 24,
   "metadata": {},
   "outputs": [
    {
     "name": "stdout",
     "output_type": "stream",
     "text": [
      "Before Swapping  a= 5 b= 7\n",
      "After Swapping a= 7 b= 5\n"
     ]
    }
   ],
   "source": [
    "a=5\n",
    "b=7\n",
    "print(\"Before Swapping \",\"a=\",a,\"b=\",b)\n",
    "temp=a\n",
    "a=b\n",
    "b=temp\n",
    "print(\"After Swapping\",\"a=\",a,\"b=\",b)"
   ]
  },
  {
   "cell_type": "markdown",
   "metadata": {},
   "source": [
    "__Question 4: Write a program to swap two numbers in Python without using a temporary variable.__"
   ]
  },
  {
   "cell_type": "code",
   "execution_count": 13,
   "metadata": {},
   "outputs": [
    {
     "name": "stdout",
     "output_type": "stream",
     "text": [
      "Before Swapping  a= 55 b= 77\n",
      "After Swapping a= 77 b= 55\n"
     ]
    }
   ],
   "source": [
    "a=55\n",
    "b=77\n",
    "print(\"Before Swapping \",\"a=\",a,\"b=\",b)\n",
    "a=a+b\n",
    "b=a-b\n",
    "a=a-b\n",
    "print(\"After Swapping\",\"a=\",a,\"b=\",b)"
   ]
  },
  {
   "cell_type": "markdown",
   "metadata": {},
   "source": [
    "__Question 5: Write a program to convert fahrenheit to kelvin and celsius both.__"
   ]
  },
  {
   "cell_type": "code",
   "execution_count": 19,
   "metadata": {},
   "outputs": [
    {
     "name": "stdout",
     "output_type": "stream",
     "text": [
      "157 of fahrenheit to celsius is  69.44444444444444  and kelvin is 342.5944444444445\n"
     ]
    }
   ],
   "source": [
    "fahrenheit=157\n",
    "celsius=(fahrenheit-32)*(5/9)\n",
    "kelvin=(fahrenheit+459.67)*(5/9)\n",
    "print(fahrenheit,\"of fahrenheit to celsius is \",celsius,\" and kelvin is\",kelvin)"
   ]
  },
  {
   "cell_type": "markdown",
   "metadata": {},
   "source": [
    "__Question 6: Write a program to demonstrate all the available data types in Python. Hint: Use type() function.__"
   ]
  },
  {
   "cell_type": "code",
   "execution_count": 22,
   "metadata": {},
   "outputs": [
    {
     "name": "stdout",
     "output_type": "stream",
     "text": [
      "Data type of p is  <class 'int'>\n",
      "Data type of q is  <class 'float'>\n",
      "Data type of r is  <class 'str'>\n",
      "Data type of s is  <class 'complex'>\n"
     ]
    }
   ],
   "source": [
    "p=567\n",
    "q=55.77\n",
    "r=\"Machine Learning\"\n",
    "s=5+7j\n",
    "print(\"Data type of p is \",(type(p)))\n",
    "print(\"Data type of q is \",(type(q)))\n",
    "print(\"Data type of r is \",(type(r)))\n",
    "print(\"Data type of s is \",(type(s)))"
   ]
  },
  {
   "cell_type": "markdown",
   "metadata": {},
   "source": [
    "__Question 7:Create a Markdown cell in jupyter and list the steps discussed in the session by Dr. Darshan Ingle sir to create Github profile and upload Githubs Assignment link.__"
   ]
  },
  {
   "cell_type": "markdown",
   "metadata": {},
   "source": [
    "__Steps:__"
   ]
  },
  {
   "cell_type": "markdown",
   "metadata": {},
   "source": [
    "\n",
    "1.first open https://github.com/"
   ]
  },
  {
   "cell_type": "markdown",
   "metadata": {},
   "source": [
    "2.Sign up for GitHub using name,Email and password."
   ]
  },
  {
   "cell_type": "markdown",
   "metadata": {},
   "source": [
    "3.After successfully login,on left hand site press __New__ infront of __Repositories__."
   ]
  },
  {
   "cell_type": "markdown",
   "metadata": {},
   "source": [
    "4.Put Repository name as __LetsUpgrade AI/ML__,put Description as Assignment if you wish to as it's optional,set it as __Public__ only and press on __Create repository__."
   ]
  },
  {
   "cell_type": "markdown",
   "metadata": {},
   "source": [
    "5.Upload the daywise assignment folder into your repository and press on __commit changes__."
   ]
  },
  {
   "cell_type": "markdown",
   "metadata": {},
   "source": [
    "6.Copy the URL of the folder for the perticluar day."
   ]
  },
  {
   "cell_type": "markdown",
   "metadata": {},
   "source": [
    "7.Open the assignment submission google form,insert all information and select the day from dropdown list after that paste the copied folder URL under __Github URL of the assignment for the Day__."
   ]
  },
  {
   "cell_type": "code",
   "execution_count": null,
   "metadata": {},
   "outputs": [],
   "source": []
  },
  {
   "cell_type": "code",
   "execution_count": null,
   "metadata": {},
   "outputs": [],
   "source": []
  }
 ],
 "metadata": {
  "kernelspec": {
   "display_name": "Python 3",
   "language": "python",
   "name": "python3"
  },
  "language_info": {
   "codemirror_mode": {
    "name": "ipython",
    "version": 3
   },
   "file_extension": ".py",
   "mimetype": "text/x-python",
   "name": "python",
   "nbconvert_exporter": "python",
   "pygments_lexer": "ipython3",
   "version": "3.7.6"
  }
 },
 "nbformat": 4,
 "nbformat_minor": 4
}
